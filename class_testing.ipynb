{
 "cells": [
  {
   "cell_type": "code",
   "execution_count": 62,
   "metadata": {},
   "outputs": [],
   "source": [
    "import csv\n",
    "import pandas as pd"
   ]
  },
  {
   "cell_type": "code",
   "execution_count": 84,
   "metadata": {},
   "outputs": [],
   "source": [
    "class Effect:\n",
    "    all_effects = []\n",
    "    bath = pd.read_pickle('data/bath_pickle.pkl')\n",
    "\n",
    "    def __init__(self, description: str, lower_threshold: float, upper_threshold: float, cost_equation: str, units: str):\n",
    "        self.description = description\n",
    "        self.lower_threshold = lower_threshold\n",
    "        self.upper_threshold = upper_threshold\n",
    "        self.cost_equation = cost_equation\n",
    "        self.units = units\n",
    "        Effect.all_effects.append(self)\n",
    "\n",
    "    def cost_function(self, elevation_m: float) -> float:\n",
    "        if self.cost_equation == '':\n",
    "            return 0\n",
    "        MAX_SURFACE_AREA = 5574.65\n",
    "        exposed_km2 = MAX_SURFACE_AREA - Effect.bath.at[round(elevation_m,2), 'Surface Area']\n",
    "        return eval(self.cost_equation.split('=')[1])\n",
    "    \n",
    "    def filled_description(self, elevation: float) -> str:\n",
    "        cost = self.format_cost_to_print(self.cost_function(elevation))\n",
    "        return self.description.format(cost=cost)\n",
    "    \n",
    "    @staticmethod\n",
    "    def format_cost_to_print(cost: float) -> str:\n",
    "        if cost > 1000000000:\n",
    "            word = 'billion'\n",
    "            cost /= 1000000000\n",
    "            return f'${cost:.1f} {word}'\n",
    "        elif cost > 1000000:\n",
    "            word = 'million'\n",
    "            cost /= 1000000            \n",
    "            return f'${cost:.1f} {word}'\n",
    "        elif cost > 1000:\n",
    "            return f'${round(cost/1000)},000'\n",
    "        else:\n",
    "            return f'${cost:.0f}'\n",
    "    \n",
    "    @classmethod\n",
    "    def instantiate_from_csv(cls, path:str):\n",
    "        with open(path, 'r') as f:\n",
    "            reader = csv.DictReader(f)\n",
    "            effects = list(reader)\n",
    "        for effect in effects:\n",
    "            Effect(\n",
    "                description = effect.get('\\ufeffeffect_description'),\n",
    "                lower_threshold = float(effect.get('lower_m')),\n",
    "                upper_threshold = float(effect.get('upper_m')),\n",
    "                cost_equation = effect.get('cost_equation'),\n",
    "                units = effect.get('units')\n",
    "            )"
   ]
  },
  {
   "cell_type": "code",
   "execution_count": 91,
   "metadata": {},
   "outputs": [
    {
     "name": "stdout",
     "output_type": "stream",
     "text": [
      "High salinity impairs the growth of brine shrimp and the algea that brine shrimp eat, harming the brine shrimp industry to the tune of {cost} per year year.\n",
      "High salinity impairs the growth of brine shrimp and the algea that brine shrimp eat, harming the brine shrimp industry to the tune of $32.3 million per year year.\n"
     ]
    }
   ],
   "source": [
    "Effect.instantiate_from_csv('data/elevation_effects.csv')\n",
    "\n",
    "Effect.all_effects[11].filled_description(127)"
   ]
  }
 ],
 "metadata": {
  "kernelspec": {
   "display_name": "Python 3.9.13 ('base')",
   "language": "python",
   "name": "python3"
  },
  "language_info": {
   "codemirror_mode": {
    "name": "ipython",
    "version": 3
   },
   "file_extension": ".py",
   "mimetype": "text/x-python",
   "name": "python",
   "nbconvert_exporter": "python",
   "pygments_lexer": "ipython3",
   "version": "3.9.13"
  },
  "orig_nbformat": 4,
  "vscode": {
   "interpreter": {
    "hash": "4b55733d1840a0be1758c73097f27f9b2fa130991d8714818b6a7a4fc9ef5f47"
   }
  }
 },
 "nbformat": 4,
 "nbformat_minor": 2
}
