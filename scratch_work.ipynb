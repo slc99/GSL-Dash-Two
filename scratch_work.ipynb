{
 "cells": [
  {
   "cell_type": "code",
   "execution_count": 3,
   "metadata": {},
   "outputs": [
    {
     "ename": "NameError",
     "evalue": "name 'html' is not defined",
     "output_type": "error",
     "traceback": [
      "\u001b[0;31m---------------------------------------------------------------------------\u001b[0m",
      "\u001b[0;31mNameError\u001b[0m                                 Traceback (most recent call last)",
      "\u001b[0;32m/tmp/ipykernel_8753/3637439386.py\u001b[0m in \u001b[0;36m<module>\u001b[0;34m\u001b[0m\n\u001b[1;32m    260\u001b[0m     \u001b[0;32mreturn\u001b[0m \u001b[0mfig\u001b[0m\u001b[0;34m\u001b[0m\u001b[0;34m\u001b[0m\u001b[0m\n\u001b[1;32m    261\u001b[0m \u001b[0;34m\u001b[0m\u001b[0m\n\u001b[0;32m--> 262\u001b[0;31m \u001b[0;32mdef\u001b[0m \u001b[0mWrittenEffects\u001b[0m\u001b[0;34m(\u001b[0m\u001b[0mlr_average_elevation\u001b[0m\u001b[0;34m:\u001b[0m \u001b[0mfloat\u001b[0m\u001b[0;34m,\u001b[0m \u001b[0mdf_lake\u001b[0m\u001b[0;34m:\u001b[0m \u001b[0mpd\u001b[0m\u001b[0;34m.\u001b[0m\u001b[0mDataFrame\u001b[0m\u001b[0;34m,\u001b[0m \u001b[0mbath_df\u001b[0m\u001b[0;34m:\u001b[0m \u001b[0mpd\u001b[0m\u001b[0;34m.\u001b[0m\u001b[0mDataFrame\u001b[0m\u001b[0;34m)\u001b[0m \u001b[0;34m->\u001b[0m \u001b[0mhtml\u001b[0m\u001b[0;34m.\u001b[0m\u001b[0mDiv\u001b[0m\u001b[0;34m:\u001b[0m\u001b[0;34m\u001b[0m\u001b[0;34m\u001b[0m\u001b[0m\n\u001b[0m\u001b[1;32m    263\u001b[0m     \u001b[0mNATURAL_ELEVATION_MEAN\u001b[0m \u001b[0;34m=\u001b[0m \u001b[0;36m1282.30\u001b[0m\u001b[0;34m\u001b[0m\u001b[0;34m\u001b[0m\u001b[0m\n\u001b[1;32m    264\u001b[0m     \u001b[0mNATURAL_SA_MEAN\u001b[0m \u001b[0;34m=\u001b[0m \u001b[0mbath_df\u001b[0m\u001b[0;34m.\u001b[0m\u001b[0mat\u001b[0m\u001b[0;34m[\u001b[0m\u001b[0mNATURAL_ELEVATION_MEAN\u001b[0m\u001b[0;34m,\u001b[0m \u001b[0;34m'Surface Area'\u001b[0m\u001b[0;34m]\u001b[0m\u001b[0;34m\u001b[0m\u001b[0;34m\u001b[0m\u001b[0m\n",
      "\u001b[0;31mNameError\u001b[0m: name 'html' is not defined"
     ]
    }
   ],
   "source": [
    "import pandas as pd\n",
    "import csv\n",
    "import dataretrieval.nwis as nwis\n",
    "from datetime import date\n",
    "import numpy as np\n",
    "from dateutil.relativedelta import relativedelta\n",
    "import plotly.express as px\n",
    "\n",
    "class DataSchema:\n",
    "    streamflow_after_consumption = 'streamflow_after_consumption'\n",
    "    groundwater = 'groundwater'\n",
    "    evap_rate = 'evap_rate'\n",
    "    percip = 'percip'\n",
    "    total_consumptive_use = 'total_consumptive_use'\n",
    "    streamflow_before_consumption = 'streamflow_before_consumption'\n",
    "    \n",
    "\n",
    "class Policy:\n",
    "\n",
    "    all_policies = []\n",
    "\n",
    "    def __init__(self, title: str, description: str, affected: str, affect_type: str, delta: float):\n",
    "        \n",
    "        assert affect_type == ('proportion' or 'absolute'), f'Affect type: {affect_type}. Must be proportion or absolute.'\n",
    "        # assert affected in DataSchema.__dict__, f'Affected: {affected} not in {DataSchema.__dict__}'\n",
    "\n",
    "        if affect_type == 'proportion':\n",
    "            assert delta >= 0, f'Delta: {delta}. Delta must be above 0 '\n",
    "\n",
    "        self.title = title\n",
    "        self.description = description\n",
    "        self.affected = affected\n",
    "        self.affect_type = affect_type\n",
    "        self.delta = delta\n",
    "        self.checklist_label = html.Span(children=[html.Strong(self.title), html.Br() ,self.description, html.Br()])\n",
    "\n",
    "        Policy.all_policies.append(self)\n",
    "\n",
    "    def __repr__(self):\n",
    "        return f'{self.title}, {self.description}, {self.affected}, {self.affect_type}, {self.delta}'\n",
    "\n",
    "\n",
    "    @classmethod\n",
    "    def instantiate_from_csv(cls, path: str):\n",
    "        with open(path,'r') as f:\n",
    "            reader = csv.DictReader(f)\n",
    "            policies = list(reader)\n",
    "        for policy in policies:\n",
    "            Policy(\n",
    "                title = policy.get('Title'),\n",
    "                description = policy.get('Description'),\n",
    "                affected = policy.get('Affected Variable'),\n",
    "                affect_type = policy.get('Affect Type'),\n",
    "                delta = float(policy.get('Delta')),\n",
    "            )\n",
    "\n",
    "def LoadMonthlyStats(path: str) -> pd.DataFrame:\n",
    "    '''\n",
    "    Loads monthly statistics as a dataframe\n",
    "    '''\n",
    "    data = pd.read_csv(path,index_col=0,)\n",
    "    data.rename(columns={\n",
    "        'Streamflow': DataSchema.streamflow_after_consumption,\n",
    "        'Groundwater': DataSchema.groundwater,\n",
    "        'Evap (km3/km2)': DataSchema.evap_rate,\n",
    "        'Percipitation (mm)': DataSchema.percip, \n",
    "        'Consumptive use': DataSchema.total_consumptive_use,\n",
    "        'Streamflow without consumption': DataSchema.streamflow_before_consumption,\n",
    "    },inplace=True)\n",
    "    return data\n",
    "\n",
    "def AdjustMonthlyStats(policies: list, monthly_stats: pd.DataFrame) -> pd.DataFrame:\n",
    "    '''\n",
    "    Adjusts the monthly variables by the given policies\n",
    "    '''\n",
    "    adjusted_monthly = monthly_stats.copy(deep=True)  \n",
    "\n",
    "    for policy in policies:\n",
    "        if policy.affect_type == 'proportion':\n",
    "            adjusted_monthly[policy.affected] *= policy.delta\n",
    "    for policy in policies:\n",
    "        if policy.affect_type == 'absolute':\n",
    "            adjusted_monthly[policy.affected] += policy.delta\n",
    "    \n",
    "    adjusted_monthly[DataSchema.total_consumptive_use].clip(0,inplace=True)\n",
    "\n",
    "    adjusted_monthly[DataSchema.streamflow_after_consumption] = (\n",
    "        adjusted_monthly[DataSchema.streamflow_before_consumption] - adjusted_monthly[DataSchema.total_consumptive_use])\n",
    "    \n",
    "    return adjusted_monthly\n",
    "\n",
    "def GetUSGSSiteData(site_num: str, start_date: str, end_date: str, service='dv') -> pd.DataFrame:\n",
    "    '''\n",
    "    Uses dataretrieval.nwis to load the record of the given site\n",
    "    '''\n",
    "    df = nwis.get_record(sites=site_num, service=service ,start=start_date, end=end_date)\n",
    "    df.reset_index(inplace=True)\n",
    "    return df\n",
    "\n",
    "def CreateLakeData(path: str, bath_df: pd.DataFrame) -> pd.DataFrame:\n",
    "    '''\n",
    "    This function loads the historic data from the saved cvs and then updates with new data if required\n",
    "    '''\n",
    "    today = date.today().strftime(\"%Y-%m-%d\")\n",
    "\n",
    "    saved_data = pd.read_csv(path, index_col=0)\n",
    "    last_saved_day = saved_data.at[len(saved_data)-1, 'datetime']\n",
    "\n",
    "    if saved_data.at[len(saved_data)-1, 'datetime'].split('-')[1] == today.split('-')[1]:\n",
    "        return saved_data\n",
    "\n",
    "    today = date.today().strftime(\"%Y-%m-%d\")\n",
    "    FOOT_TO_METER = 0.3048\n",
    "    \n",
    "    new_data = GetUSGSSiteData('10010024',last_saved_day,today)\n",
    "\n",
    "    new_data['YYYY-MM'] = new_data['datetime'].dt.year.astype(str) + '-' + new_data['datetime'].dt.month.astype(str) #the better way\n",
    "    new_data = new_data.groupby(new_data['YYYY-MM']).mean()\n",
    "    new_data = new_data.iloc[1:] \n",
    "\n",
    "    new_data.rename(columns={'62614_Mean':'Elevation'},inplace=True)\n",
    "    new_data['Elevation'] *= FOOT_TO_METER\n",
    "    new_data.reset_index(inplace=True)\n",
    "    new_data['datetime'] = pd.to_datetime(new_data['YYYY-MM'])\n",
    "\n",
    "    for index, row in new_data.iterrows():\n",
    "        round_e = round(new_data.at[index,'Elevation'], 2)\n",
    "        new_data.at[index,'Surface Area'] = bath_df.at[round_e,'Surface Area']\n",
    "        new_data.at[index,'Volume'] = bath_df.at[round_e,'Volume']\n",
    "\n",
    "    combined = pd.concat([saved_data,new_data],ignore_index=True)\n",
    "    combined.reset_index(inplace=True,drop=True)\n",
    "\n",
    "    return combined\n",
    "\n",
    "def GSLPredictor(years_forward: int, monthly_stats: pd.DataFrame,\n",
    "                    bath_df: pd.DataFrame, lake_df: pd.DataFrame, start_date='',\n",
    "                    weather=False):\n",
    "    \n",
    "    MAX_VOLUME = 39.896064\n",
    "    \n",
    "    if len(start_date) == 0:\n",
    "        yyyy_mm_date = date.today().strftime(\"%Y-%m\")  \n",
    "    else:\n",
    "        yyyy_mm_date = start_date\n",
    "        \n",
    "    cur_date = pd.to_datetime(yyyy_mm_date)\n",
    "\n",
    "    months_forward = 12 * years_forward\n",
    "    \n",
    "    elevation = round(lake_df.set_index('YYYY-MM').at[yyyy_mm_date,'Elevation'], 2)\n",
    "    predictions = pd.DataFrame(columns=['datetime','Elevation Prediction','YYYY-MM'])\n",
    "    \n",
    "    weather_factor = 0\n",
    "    lr_weather_counter = 0\n",
    "    \n",
    "    for i in range(months_forward):\n",
    "        surface_area = bath_df.at[elevation,'Surface Area']\n",
    "        volume = bath_df.at[elevation,'Volume']\n",
    "        month_index = (i%12)\n",
    "        \n",
    "        lost_evap = surface_area * monthly_stats.at[month_index,DataSchema.evap_rate]\n",
    "        gained_rain = surface_area * (monthly_stats.at[month_index,DataSchema.percip]/1000000)\n",
    "        gained_stream = monthly_stats.at[month_index,DataSchema.streamflow_after_consumption]\n",
    "        \n",
    "        if weather:\n",
    "            if lr_weather_counter == 0:\n",
    "                lr_weather_counter = np.random.randint(60,120)\n",
    "                lr_weather_factor = np.random.normal(scale=0.15)\n",
    "                \n",
    "            if month_index == 0:\n",
    "                weather_factor = np.random.normal(scale=0.35)\n",
    "            \n",
    "            lr_weather_counter -= 1\n",
    "            \n",
    "            gained_rain *= 1 + (weather_factor + lr_weather_factor)\n",
    "            gained_stream *= 1 + (weather_factor +  lr_weather_factor)\n",
    "        \n",
    "        gained_ground = 0.00775\n",
    "        net = gained_rain + gained_stream + gained_ground - lost_evap\n",
    "        \n",
    "        volume += net\n",
    "        \n",
    "        if volume >= MAX_VOLUME:\n",
    "            elevation = bath_df.index[(bath_df['Volume']-MAX_VOLUME).abs().argsort()][:1][0]\n",
    "        else:\n",
    "            elevation = bath_df.index[(bath_df['Volume']-volume).abs().argsort()][:1][0]\n",
    "            \n",
    "        cur_date += relativedelta(months=1)\n",
    "        \n",
    "        predictions.loc[len(predictions.index)] = [cur_date,elevation,cur_date.strftime(\"%Y-%m\")]\n",
    "        \n",
    "    return predictions\n",
    "\n",
    "def CreateLineGraph(prediction: pd.DataFrame, lr_average_elevaton: float, df_lake: pd.DataFrame, rolling=60) -> px.scatter:\n",
    "\n",
    "    MEAN_ELEVATION_WITHOUT_HUMANS = 1282.3\n",
    "\n",
    "    combined = pd.concat([df_lake,prediction],ignore_index=True)\n",
    "\n",
    "    temp = pd.concat([combined.iloc[len(df_lake)-rolling:len(df_lake)]['Elevation'],combined.iloc[len(df_lake):]['Elevation Prediction']])\n",
    "    combined['Elevation Prediction'] = temp\n",
    "\n",
    "    colors = ['blue','red']\n",
    "\n",
    "    combined['datetime'] = pd.to_datetime(combined['datetime'])\n",
    "\n",
    "    fig = px.scatter(combined, y=['Elevation','Elevation Prediction'],\n",
    "                        x='datetime', trendline='rolling',\n",
    "                        trendline_options=dict(window=rolling),\n",
    "                        color_discrete_sequence=colors,\n",
    "                        labels = {\n",
    "                            'value':'Lake Elevation (m)',\n",
    "                            'datetime':'Year'\n",
    "                        },\n",
    "                    )\n",
    "\n",
    "    start_date = \"1870-01-01\"\n",
    "    end_date = combined.at[len(combined)-1, \"datetime\"]\n",
    "    fig.update_xaxes(type='date', range=[start_date, end_date])\n",
    "\n",
    "    #only show trendlines\n",
    "    fig.data = [t for t in fig.data if t.mode == 'lines']\n",
    "\n",
    "    #assign label positions\n",
    "    if (0 < (MEAN_ELEVATION_WITHOUT_HUMANS - lr_average_elevaton) < 0.4) or (0 < (df_lake['Elevation'].mean() - lr_average_elevaton) < 0.4):\n",
    "        lr_pos = 'bottom left'\n",
    "        human_pos = 'top left'\n",
    "    elif 0 < (lr_average_elevaton - df_lake['Elevation'].mean()) < 0.4:\n",
    "        lr_pos = 'top left'\n",
    "        human_pos = 'bottom left'\n",
    "    else:\n",
    "        lr_pos = 'top left'\n",
    "        human_pos = 'top left'\n",
    "\n",
    "    fig.add_hline(y=MEAN_ELEVATION_WITHOUT_HUMANS, line_dash='dot',\n",
    "                    annotation_text = f'Average Natural Level, {MEAN_ELEVATION_WITHOUT_HUMANS}m',\n",
    "                    annotation_position = 'top left',\n",
    "                    annotation_font_size = 10,\n",
    "                    annotation_font_color = 'black',\n",
    "                    )\n",
    "    avg_elevation = round(df_lake['Elevation'].mean(),2)\n",
    "    fig.add_hline(y=avg_elevation, line_dash='dot',\n",
    "                annotation_text = f'Average Since 1847, {avg_elevation}m',\n",
    "                annotation_position = human_pos,\n",
    "                annotation_font_size = 10,\n",
    "                annotation_font_color = colors[0],\n",
    "                line_color = colors[0],\n",
    "                )\n",
    "\n",
    "    fig.add_hline(y=lr_average_elevaton, \n",
    "                    line_dash='dot',\n",
    "                    annotation_text = f'Long-term Policy Average, {lr_average_elevaton}m',\n",
    "                    annotation_position = lr_pos,\n",
    "                    annotation_font_size = 10,\n",
    "                    annotation_font_color = colors[1],\n",
    "                    line_color = colors[1],\n",
    "            )\n",
    "\n",
    "    return fig\n",
    "\n",
    "def WrittenEffects(lr_average_elevation: float, df_lake: pd.DataFrame, bath_df: pd.DataFrame) -> html.Div:\n",
    "    NATURAL_ELEVATION_MEAN = 1282.30\n",
    "    NATURAL_SA_MEAN = bath_df.at[NATURAL_ELEVATION_MEAN, 'Surface Area']\n",
    "    NATURAL_VOLUME_MEAN = bath_df[NATURAL_ELEVATION_MEAN, 'Volume']\n",
    "    HUMAN_ELEVATION_MEAN = round(df_lake['Elevation'].mean(), 2)\n",
    "\n",
    "    delta_elevation_percent = 100 * ((lr_average_elevation - NATURAL_ELEVATION_MEAN) / NATURAL_ELEVATION_MEAN)\n",
    "    delta_sa_percent = 100 * ((bath_df.at[lr_average_elevation, 'Surface Area'] - NATURAL_SA_MEAN) / NATURAL_SA_MEAN)\n",
    "    delta_volume_percent = 100 * ((bath_df.at[lr_average_elevation, 'Volume'] - NATURAL_VOLUME_MEAN) / NATURAL_VOLUME_MEAN)\n",
    "\n",
    "\n",
    "    if delta_elevation_percent >= 0:\n",
    "        color = 'green'\n",
    "        elevation_descriptor = 'higher'\n",
    "        volume_descriptor = 'more'\n",
    "    else:\n",
    "        color = 'red'\n",
    "        descriptor = 'lower'\n",
    "        volume_descriptor = 'less'\n",
    "    \n",
    "    return html.Div(\n",
    "        id = 'written-effects',\n",
    "        children=[\n",
    "            html.H3('Based on the selected policy choices, in the long term, the lake will be:'),\n",
    "            html.Ul([\n",
    "                html.Li(f'fds',style={'color':color})\n",
    "            ])\n",
    "        ]\n",
    "    )\n",
    "\n",
    "def BuyBackEffect(millions_spent: int) -> float:\n",
    "    '''\n",
    "    This function takes the amount of money spent on water rights buy backs and calculates the total amount of water saving it would create, in km3/yr\n",
    "    '''\n",
    "    pass\n",
    "\n",
    "def RetrieveImage(lr_average_elevation: float) -> html.Img:\n",
    "    closest_half_meter = round(lr_average_elevation * 2) / 2\n",
    "    image_path = f'/assets/gsl_{closest_half_meter}.png'\n",
    "    return html.Img(src=image_path)\n",
    "\n",
    "\n",
    "Policy.instantiate_from_csv('data/policies.csv')\n",
    "monthly_stats = LoadMonthlyStats('data/monthly_stats.csv')\n",
    "bath = pd.read_csv('data/bath_df.csv', index_col=0)\n",
    "lake = CreateLakeData('data/lake_df.csv', bath)\n"
   ]
  },
  {
   "cell_type": "code",
   "execution_count": 20,
   "metadata": {},
   "outputs": [
    {
     "data": {
      "application/vnd.plotly.v1+json": {
       "config": {
        "plotlyServerURL": "https://plot.ly"
       },
       "data": [
        {
         "hovertemplate": "datetime=%{x}<br>Elevation=%{y}<extra></extra>",
         "legendgroup": "",
         "marker": {
          "color": "#636efa",
          "symbol": "circle"
         },
         "mode": "markers",
         "name": "",
         "orientation": "v",
         "showlegend": false,
         "type": "scatter",
         "x": [
          1847,
          1848,
          1849,
          1850,
          1851,
          1852,
          1853,
          1854,
          1855,
          1856,
          1857,
          1858,
          1859,
          1860,
          1861,
          1862,
          1863,
          1864,
          1865,
          1866,
          1867,
          1868,
          1869,
          1870,
          1871,
          1872,
          1873,
          1874,
          1875,
          1876,
          1877,
          1878,
          1879,
          1880,
          1881,
          1882,
          1883,
          1884,
          1885,
          1886,
          1887,
          1888,
          1889,
          1890,
          1891,
          1892,
          1893,
          1894,
          1895,
          1896,
          1897,
          1898,
          1899,
          1900,
          1901,
          1902,
          1903,
          1904,
          1905,
          1906,
          1907,
          1908,
          1909,
          1910,
          1911,
          1912,
          1913,
          1914,
          1915,
          1916,
          1917,
          1918,
          1919,
          1920,
          1921,
          1922,
          1923,
          1924,
          1925,
          1926,
          1927,
          1928,
          1929,
          1930,
          1931,
          1932,
          1933,
          1934,
          1935,
          1936,
          1937,
          1938,
          1939,
          1940,
          1941,
          1942,
          1943,
          1944,
          1945,
          1946,
          1947,
          1948,
          1949,
          1950,
          1951,
          1952,
          1953,
          1954,
          1955,
          1956,
          1957,
          1958,
          1959,
          1960,
          1961,
          1962,
          1963,
          1964,
          1965,
          1966,
          1967,
          1968,
          1969,
          1970,
          1971,
          1972,
          1973,
          1974,
          1975,
          1976,
          1977,
          1978,
          1979,
          1980,
          1981,
          1982,
          1983,
          1984,
          1985,
          1986,
          1987,
          1988,
          1989,
          1990,
          1991,
          1992,
          1993,
          1994,
          1995,
          1996,
          1997,
          1998,
          1999,
          2000,
          2001,
          2002,
          2003,
          2004,
          2005,
          2006,
          2007,
          2008,
          2009,
          2010,
          2011,
          2012,
          2013,
          2014,
          2015,
          2016,
          2017,
          2018,
          2019,
          2020,
          2021,
          2022
         ],
         "xaxis": "x",
         "y": [
          1280.09904,
          1280.28192,
          1280.3124,
          1280.32764,
          1280.5562400000001,
          1280.89152,
          1281.3792,
          1281.2776000000001,
          1281.3334800000002,
          1281.2877600000002,
          1281.0744,
          1280.80008,
          1280.4800400000001,
          1280.3123999999998,
          1280.2361999999998,
          1280.87628,
          1280.8915200000001,
          1281.3791999999999,
          1281.71448,
          1282.1869199999999,
          1282.6136400000003,
          1283.10132,
          1283.34516,
          1283.19276,
          1283.19276,
          1283.5128000000002,
          1283.5280400000001,
          1283.3604000000003,
          1282.958064,
          1283.1500879999999,
          1283.1571999999999,
          1282.8465942857142,
          1282.2097800000004,
          1281.91514,
          1281.86434,
          1281.76782,
          1281.5045066666669,
          1281.6408199999998,
          1282.1285,
          1282.3071466666668,
          1282.1633672727273,
          1281.7627400000001,
          1281.2655927272729,
          1281.117072,
          1281.034776,
          1280.8381800000002,
          1280.812272,
          1280.80008,
          1280.60196,
          1280.48766,
          1280.5511600000002,
          1280.45972,
          1280.32002,
          1280.24128,
          1279.91616,
          1279.3218,
          1279.22274,
          1279.34466,
          1279.19226,
          1279.29132,
          1279.96696,
          1280.287,
          1280.69848,
          1281.04646,
          1280.8966000000003,
          1280.81278,
          1280.8585,
          1280.9982,
          1280.89914,
          1280.7645200000002,
          1280.9169200000001,
          1281.00836,
          1280.71372,
          1280.54608,
          1280.8432599999999,
          1281.1760000000002,
          1281.41222,
          1281.40714,
          1281.29792,
          1281.2014000000001,
          1280.9728,
          1280.69594,
          1280.50417,
          1280.32129,
          1279.9834700000001,
          1279.7078800000002,
          1279.50722,
          1278.99541,
          1278.65886,
          1278.6004400000002,
          1278.78078,
          1278.82269,
          1278.80237,
          1278.55472,
          1278.57377,
          1278.78205,
          1278.76554,
          1278.80364,
          1278.8252300000001,
          1279.0119200000001,
          1279.1478100000002,
          1279.22909,
          1279.33196,
          1279.54151,
          1279.83488,
          1280.1206300000001,
          1280.0965,
          1279.6862899999999,
          1279.33831,
          1279.23417,
          1279.10971,
          1279.05002,
          1278.74268,
          1278.437245,
          1277.9584550000002,
          1277.945755,
          1277.756525,
          1277.954645,
          1278.274685,
          1278.472805,
          1278.368665,
          1278.576945,
          1278.93572,
          1278.877173,
          1279.2881450000002,
          1279.73582,
          1280.0298249999998,
          1280.197465,
          1280.29843,
          1280.500995,
          1280.12571,
          1279.92251,
          1279.76376,
          1279.92632,
          1279.948545,
          1280.156825,
          1281.2987666666666,
          1282.5222,
          1282.8642533333334,
          1283.3231466666668,
          1283.3290733333333,
          1282.5277033333334,
          1281.7102985591398,
          1281.0439084900154,
          1280.586679812596,
          1280.1740395038933,
          1280.1432910138249,
          1279.8548956682027,
          1279.8600812089094,
          1279.9488662906936,
          1280.271847592934,
          1280.7952315652842,
          1281.0822435668204,
          1280.82758687208,
          1280.2655953302612,
          1279.7220224546852,
          1279.1275573041476,
          1278.6872558438265,
          1278.930107555914,
          1279.2221206652841,
          1279.0503792870968,
          1278.6624182602893,
          1278.6287202273427,
          1278.541377645315,
          1279.2454937374807,
          1279.389152728884,
          1278.8298481569893,
          1278.407208407527,
          1278.15682560553,
          1278.076355876159,
          1278.3260696682028,
          1278.1909857572966,
          1278.2328066036869,
          1278.1979992732665,
          1277.6203653932412,
          1277.156888301634
         ],
         "yaxis": "y"
        },
        {
         "hovertemplate": "<b>OLS trendline</b><br>Elevation = -0.015767 * datetime + 1310.78<br>R<sup>2</sup>=0.316185<br><br>datetime=%{x}<br>Elevation=%{y} <b>(trend)</b><extra></extra>",
         "legendgroup": "",
         "marker": {
          "color": "#636efa",
          "symbol": "circle"
         },
         "mode": "lines",
         "name": "",
         "showlegend": false,
         "type": "scatter",
         "x": [
          1847,
          1848,
          1849,
          1850,
          1851,
          1852,
          1853,
          1854,
          1855,
          1856,
          1857,
          1858,
          1859,
          1860,
          1861,
          1862,
          1863,
          1864,
          1865,
          1866,
          1867,
          1868,
          1869,
          1870,
          1871,
          1872,
          1873,
          1874,
          1875,
          1876,
          1877,
          1878,
          1879,
          1880,
          1881,
          1882,
          1883,
          1884,
          1885,
          1886,
          1887,
          1888,
          1889,
          1890,
          1891,
          1892,
          1893,
          1894,
          1895,
          1896,
          1897,
          1898,
          1899,
          1900,
          1901,
          1902,
          1903,
          1904,
          1905,
          1906,
          1907,
          1908,
          1909,
          1910,
          1911,
          1912,
          1913,
          1914,
          1915,
          1916,
          1917,
          1918,
          1919,
          1920,
          1921,
          1922,
          1923,
          1924,
          1925,
          1926,
          1927,
          1928,
          1929,
          1930,
          1931,
          1932,
          1933,
          1934,
          1935,
          1936,
          1937,
          1938,
          1939,
          1940,
          1941,
          1942,
          1943,
          1944,
          1945,
          1946,
          1947,
          1948,
          1949,
          1950,
          1951,
          1952,
          1953,
          1954,
          1955,
          1956,
          1957,
          1958,
          1959,
          1960,
          1961,
          1962,
          1963,
          1964,
          1965,
          1966,
          1967,
          1968,
          1969,
          1970,
          1971,
          1972,
          1973,
          1974,
          1975,
          1976,
          1977,
          1978,
          1979,
          1980,
          1981,
          1982,
          1983,
          1984,
          1985,
          1986,
          1987,
          1988,
          1989,
          1990,
          1991,
          1992,
          1993,
          1994,
          1995,
          1996,
          1997,
          1998,
          1999,
          2000,
          2001,
          2002,
          2003,
          2004,
          2005,
          2006,
          2007,
          2008,
          2009,
          2010,
          2011,
          2012,
          2013,
          2014,
          2015,
          2016,
          2017,
          2018,
          2019,
          2020,
          2021,
          2022
         ],
         "xaxis": "x",
         "y": [
          1281.6631935985454,
          1281.6474265850281,
          1281.6316595715111,
          1281.615892557994,
          1281.600125544477,
          1281.5843585309597,
          1281.5685915174427,
          1281.5528245039254,
          1281.5370574904084,
          1281.5212904768912,
          1281.5055234633742,
          1281.489756449857,
          1281.47398943634,
          1281.4582224228227,
          1281.4424554093057,
          1281.4266883957885,
          1281.4109213822715,
          1281.3951543687542,
          1281.3793873552372,
          1281.36362034172,
          1281.347853328203,
          1281.3320863146857,
          1281.3163193011687,
          1281.3005522876515,
          1281.2847852741345,
          1281.2690182606173,
          1281.2532512471003,
          1281.237484233583,
          1281.221717220066,
          1281.2059502065488,
          1281.1901831930318,
          1281.1744161795145,
          1281.1586491659975,
          1281.1428821524805,
          1281.1271151389633,
          1281.1113481254463,
          1281.095581111929,
          1281.079814098412,
          1281.0640470848948,
          1281.0482800713778,
          1281.0325130578606,
          1281.0167460443436,
          1281.0009790308263,
          1280.9852120173093,
          1280.969445003792,
          1280.953677990275,
          1280.9379109767578,
          1280.9221439632408,
          1280.9063769497236,
          1280.8906099362066,
          1280.8748429226894,
          1280.8590759091724,
          1280.8433088956551,
          1280.8275418821381,
          1280.811774868621,
          1280.7960078551039,
          1280.7802408415866,
          1280.7644738280696,
          1280.7487068145524,
          1280.7329398010354,
          1280.7171727875182,
          1280.7014057740012,
          1280.685638760484,
          1280.669871746967,
          1280.6541047334497,
          1280.6383377199327,
          1280.6225707064154,
          1280.6068036928984,
          1280.5910366793812,
          1280.5752696658642,
          1280.559502652347,
          1280.54373563883,
          1280.5279686253127,
          1280.5122016117957,
          1280.4964345982785,
          1280.4806675847615,
          1280.4649005712442,
          1280.4491335577272,
          1280.43336654421,
          1280.417599530693,
          1280.401832517176,
          1280.3860655036588,
          1280.3702984901417,
          1280.3545314766245,
          1280.3387644631075,
          1280.3229974495903,
          1280.3072304360733,
          1280.291463422556,
          1280.275696409039,
          1280.2599293955218,
          1280.2441623820048,
          1280.2283953684876,
          1280.2126283549705,
          1280.1968613414533,
          1280.1810943279363,
          1280.165327314419,
          1280.149560300902,
          1280.1337932873848,
          1280.1180262738678,
          1280.1022592603506,
          1280.0864922468336,
          1280.0707252333164,
          1280.0549582197993,
          1280.039191206282,
          1280.023424192765,
          1280.0076571792479,
          1279.9918901657309,
          1279.9761231522136,
          1279.9603561386966,
          1279.9445891251794,
          1279.9288221116624,
          1279.9130550981452,
          1279.8972880846281,
          1279.881521071111,
          1279.865754057594,
          1279.8499870440767,
          1279.8342200305597,
          1279.8184530170424,
          1279.8026860035254,
          1279.7869189900082,
          1279.7711519764912,
          1279.755384962974,
          1279.739617949457,
          1279.7238509359397,
          1279.7080839224227,
          1279.6923169089055,
          1279.6765498953885,
          1279.6607828818712,
          1279.6450158683542,
          1279.629248854837,
          1279.61348184132,
          1279.597714827803,
          1279.5819478142857,
          1279.5661808007687,
          1279.5504137872515,
          1279.5346467737345,
          1279.5188797602173,
          1279.5031127467003,
          1279.487345733183,
          1279.471578719666,
          1279.4558117061488,
          1279.4400446926318,
          1279.4242776791145,
          1279.4085106655975,
          1279.3927436520803,
          1279.3769766385633,
          1279.361209625046,
          1279.345442611529,
          1279.3296755980118,
          1279.3139085844948,
          1279.2981415709776,
          1279.2823745574606,
          1279.2666075439433,
          1279.2508405304263,
          1279.235073516909,
          1279.219306503392,
          1279.2035394898749,
          1279.1877724763578,
          1279.1720054628406,
          1279.1562384493236,
          1279.1404714358064,
          1279.1247044222894,
          1279.1089374087721,
          1279.0931703952551,
          1279.077403381738,
          1279.061636368221,
          1279.0458693547037,
          1279.0301023411866,
          1279.0143353276694,
          1278.9985683141524,
          1278.9828013006352,
          1278.9670342871182,
          1278.951267273601,
          1278.935500260084,
          1278.9197332465667,
          1278.9039662330497
         ],
         "yaxis": "y"
        }
       ],
       "layout": {
        "legend": {
         "tracegroupgap": 0
        },
        "margin": {
         "t": 60
        },
        "template": {
         "data": {
          "bar": [
           {
            "error_x": {
             "color": "#2a3f5f"
            },
            "error_y": {
             "color": "#2a3f5f"
            },
            "marker": {
             "line": {
              "color": "#E5ECF6",
              "width": 0.5
             },
             "pattern": {
              "fillmode": "overlay",
              "size": 10,
              "solidity": 0.2
             }
            },
            "type": "bar"
           }
          ],
          "barpolar": [
           {
            "marker": {
             "line": {
              "color": "#E5ECF6",
              "width": 0.5
             },
             "pattern": {
              "fillmode": "overlay",
              "size": 10,
              "solidity": 0.2
             }
            },
            "type": "barpolar"
           }
          ],
          "carpet": [
           {
            "aaxis": {
             "endlinecolor": "#2a3f5f",
             "gridcolor": "white",
             "linecolor": "white",
             "minorgridcolor": "white",
             "startlinecolor": "#2a3f5f"
            },
            "baxis": {
             "endlinecolor": "#2a3f5f",
             "gridcolor": "white",
             "linecolor": "white",
             "minorgridcolor": "white",
             "startlinecolor": "#2a3f5f"
            },
            "type": "carpet"
           }
          ],
          "choropleth": [
           {
            "colorbar": {
             "outlinewidth": 0,
             "ticks": ""
            },
            "type": "choropleth"
           }
          ],
          "contour": [
           {
            "colorbar": {
             "outlinewidth": 0,
             "ticks": ""
            },
            "colorscale": [
             [
              0,
              "#0d0887"
             ],
             [
              0.1111111111111111,
              "#46039f"
             ],
             [
              0.2222222222222222,
              "#7201a8"
             ],
             [
              0.3333333333333333,
              "#9c179e"
             ],
             [
              0.4444444444444444,
              "#bd3786"
             ],
             [
              0.5555555555555556,
              "#d8576b"
             ],
             [
              0.6666666666666666,
              "#ed7953"
             ],
             [
              0.7777777777777778,
              "#fb9f3a"
             ],
             [
              0.8888888888888888,
              "#fdca26"
             ],
             [
              1,
              "#f0f921"
             ]
            ],
            "type": "contour"
           }
          ],
          "contourcarpet": [
           {
            "colorbar": {
             "outlinewidth": 0,
             "ticks": ""
            },
            "type": "contourcarpet"
           }
          ],
          "heatmap": [
           {
            "colorbar": {
             "outlinewidth": 0,
             "ticks": ""
            },
            "colorscale": [
             [
              0,
              "#0d0887"
             ],
             [
              0.1111111111111111,
              "#46039f"
             ],
             [
              0.2222222222222222,
              "#7201a8"
             ],
             [
              0.3333333333333333,
              "#9c179e"
             ],
             [
              0.4444444444444444,
              "#bd3786"
             ],
             [
              0.5555555555555556,
              "#d8576b"
             ],
             [
              0.6666666666666666,
              "#ed7953"
             ],
             [
              0.7777777777777778,
              "#fb9f3a"
             ],
             [
              0.8888888888888888,
              "#fdca26"
             ],
             [
              1,
              "#f0f921"
             ]
            ],
            "type": "heatmap"
           }
          ],
          "heatmapgl": [
           {
            "colorbar": {
             "outlinewidth": 0,
             "ticks": ""
            },
            "colorscale": [
             [
              0,
              "#0d0887"
             ],
             [
              0.1111111111111111,
              "#46039f"
             ],
             [
              0.2222222222222222,
              "#7201a8"
             ],
             [
              0.3333333333333333,
              "#9c179e"
             ],
             [
              0.4444444444444444,
              "#bd3786"
             ],
             [
              0.5555555555555556,
              "#d8576b"
             ],
             [
              0.6666666666666666,
              "#ed7953"
             ],
             [
              0.7777777777777778,
              "#fb9f3a"
             ],
             [
              0.8888888888888888,
              "#fdca26"
             ],
             [
              1,
              "#f0f921"
             ]
            ],
            "type": "heatmapgl"
           }
          ],
          "histogram": [
           {
            "marker": {
             "pattern": {
              "fillmode": "overlay",
              "size": 10,
              "solidity": 0.2
             }
            },
            "type": "histogram"
           }
          ],
          "histogram2d": [
           {
            "colorbar": {
             "outlinewidth": 0,
             "ticks": ""
            },
            "colorscale": [
             [
              0,
              "#0d0887"
             ],
             [
              0.1111111111111111,
              "#46039f"
             ],
             [
              0.2222222222222222,
              "#7201a8"
             ],
             [
              0.3333333333333333,
              "#9c179e"
             ],
             [
              0.4444444444444444,
              "#bd3786"
             ],
             [
              0.5555555555555556,
              "#d8576b"
             ],
             [
              0.6666666666666666,
              "#ed7953"
             ],
             [
              0.7777777777777778,
              "#fb9f3a"
             ],
             [
              0.8888888888888888,
              "#fdca26"
             ],
             [
              1,
              "#f0f921"
             ]
            ],
            "type": "histogram2d"
           }
          ],
          "histogram2dcontour": [
           {
            "colorbar": {
             "outlinewidth": 0,
             "ticks": ""
            },
            "colorscale": [
             [
              0,
              "#0d0887"
             ],
             [
              0.1111111111111111,
              "#46039f"
             ],
             [
              0.2222222222222222,
              "#7201a8"
             ],
             [
              0.3333333333333333,
              "#9c179e"
             ],
             [
              0.4444444444444444,
              "#bd3786"
             ],
             [
              0.5555555555555556,
              "#d8576b"
             ],
             [
              0.6666666666666666,
              "#ed7953"
             ],
             [
              0.7777777777777778,
              "#fb9f3a"
             ],
             [
              0.8888888888888888,
              "#fdca26"
             ],
             [
              1,
              "#f0f921"
             ]
            ],
            "type": "histogram2dcontour"
           }
          ],
          "mesh3d": [
           {
            "colorbar": {
             "outlinewidth": 0,
             "ticks": ""
            },
            "type": "mesh3d"
           }
          ],
          "parcoords": [
           {
            "line": {
             "colorbar": {
              "outlinewidth": 0,
              "ticks": ""
             }
            },
            "type": "parcoords"
           }
          ],
          "pie": [
           {
            "automargin": true,
            "type": "pie"
           }
          ],
          "scatter": [
           {
            "fillpattern": {
             "fillmode": "overlay",
             "size": 10,
             "solidity": 0.2
            },
            "type": "scatter"
           }
          ],
          "scatter3d": [
           {
            "line": {
             "colorbar": {
              "outlinewidth": 0,
              "ticks": ""
             }
            },
            "marker": {
             "colorbar": {
              "outlinewidth": 0,
              "ticks": ""
             }
            },
            "type": "scatter3d"
           }
          ],
          "scattercarpet": [
           {
            "marker": {
             "colorbar": {
              "outlinewidth": 0,
              "ticks": ""
             }
            },
            "type": "scattercarpet"
           }
          ],
          "scattergeo": [
           {
            "marker": {
             "colorbar": {
              "outlinewidth": 0,
              "ticks": ""
             }
            },
            "type": "scattergeo"
           }
          ],
          "scattergl": [
           {
            "marker": {
             "colorbar": {
              "outlinewidth": 0,
              "ticks": ""
             }
            },
            "type": "scattergl"
           }
          ],
          "scattermapbox": [
           {
            "marker": {
             "colorbar": {
              "outlinewidth": 0,
              "ticks": ""
             }
            },
            "type": "scattermapbox"
           }
          ],
          "scatterpolar": [
           {
            "marker": {
             "colorbar": {
              "outlinewidth": 0,
              "ticks": ""
             }
            },
            "type": "scatterpolar"
           }
          ],
          "scatterpolargl": [
           {
            "marker": {
             "colorbar": {
              "outlinewidth": 0,
              "ticks": ""
             }
            },
            "type": "scatterpolargl"
           }
          ],
          "scatterternary": [
           {
            "marker": {
             "colorbar": {
              "outlinewidth": 0,
              "ticks": ""
             }
            },
            "type": "scatterternary"
           }
          ],
          "surface": [
           {
            "colorbar": {
             "outlinewidth": 0,
             "ticks": ""
            },
            "colorscale": [
             [
              0,
              "#0d0887"
             ],
             [
              0.1111111111111111,
              "#46039f"
             ],
             [
              0.2222222222222222,
              "#7201a8"
             ],
             [
              0.3333333333333333,
              "#9c179e"
             ],
             [
              0.4444444444444444,
              "#bd3786"
             ],
             [
              0.5555555555555556,
              "#d8576b"
             ],
             [
              0.6666666666666666,
              "#ed7953"
             ],
             [
              0.7777777777777778,
              "#fb9f3a"
             ],
             [
              0.8888888888888888,
              "#fdca26"
             ],
             [
              1,
              "#f0f921"
             ]
            ],
            "type": "surface"
           }
          ],
          "table": [
           {
            "cells": {
             "fill": {
              "color": "#EBF0F8"
             },
             "line": {
              "color": "white"
             }
            },
            "header": {
             "fill": {
              "color": "#C8D4E3"
             },
             "line": {
              "color": "white"
             }
            },
            "type": "table"
           }
          ]
         },
         "layout": {
          "annotationdefaults": {
           "arrowcolor": "#2a3f5f",
           "arrowhead": 0,
           "arrowwidth": 1
          },
          "autotypenumbers": "strict",
          "coloraxis": {
           "colorbar": {
            "outlinewidth": 0,
            "ticks": ""
           }
          },
          "colorscale": {
           "diverging": [
            [
             0,
             "#8e0152"
            ],
            [
             0.1,
             "#c51b7d"
            ],
            [
             0.2,
             "#de77ae"
            ],
            [
             0.3,
             "#f1b6da"
            ],
            [
             0.4,
             "#fde0ef"
            ],
            [
             0.5,
             "#f7f7f7"
            ],
            [
             0.6,
             "#e6f5d0"
            ],
            [
             0.7,
             "#b8e186"
            ],
            [
             0.8,
             "#7fbc41"
            ],
            [
             0.9,
             "#4d9221"
            ],
            [
             1,
             "#276419"
            ]
           ],
           "sequential": [
            [
             0,
             "#0d0887"
            ],
            [
             0.1111111111111111,
             "#46039f"
            ],
            [
             0.2222222222222222,
             "#7201a8"
            ],
            [
             0.3333333333333333,
             "#9c179e"
            ],
            [
             0.4444444444444444,
             "#bd3786"
            ],
            [
             0.5555555555555556,
             "#d8576b"
            ],
            [
             0.6666666666666666,
             "#ed7953"
            ],
            [
             0.7777777777777778,
             "#fb9f3a"
            ],
            [
             0.8888888888888888,
             "#fdca26"
            ],
            [
             1,
             "#f0f921"
            ]
           ],
           "sequentialminus": [
            [
             0,
             "#0d0887"
            ],
            [
             0.1111111111111111,
             "#46039f"
            ],
            [
             0.2222222222222222,
             "#7201a8"
            ],
            [
             0.3333333333333333,
             "#9c179e"
            ],
            [
             0.4444444444444444,
             "#bd3786"
            ],
            [
             0.5555555555555556,
             "#d8576b"
            ],
            [
             0.6666666666666666,
             "#ed7953"
            ],
            [
             0.7777777777777778,
             "#fb9f3a"
            ],
            [
             0.8888888888888888,
             "#fdca26"
            ],
            [
             1,
             "#f0f921"
            ]
           ]
          },
          "colorway": [
           "#636efa",
           "#EF553B",
           "#00cc96",
           "#ab63fa",
           "#FFA15A",
           "#19d3f3",
           "#FF6692",
           "#B6E880",
           "#FF97FF",
           "#FECB52"
          ],
          "font": {
           "color": "#2a3f5f"
          },
          "geo": {
           "bgcolor": "white",
           "lakecolor": "white",
           "landcolor": "#E5ECF6",
           "showlakes": true,
           "showland": true,
           "subunitcolor": "white"
          },
          "hoverlabel": {
           "align": "left"
          },
          "hovermode": "closest",
          "mapbox": {
           "style": "light"
          },
          "paper_bgcolor": "white",
          "plot_bgcolor": "#E5ECF6",
          "polar": {
           "angularaxis": {
            "gridcolor": "white",
            "linecolor": "white",
            "ticks": ""
           },
           "bgcolor": "#E5ECF6",
           "radialaxis": {
            "gridcolor": "white",
            "linecolor": "white",
            "ticks": ""
           }
          },
          "scene": {
           "xaxis": {
            "backgroundcolor": "#E5ECF6",
            "gridcolor": "white",
            "gridwidth": 2,
            "linecolor": "white",
            "showbackground": true,
            "ticks": "",
            "zerolinecolor": "white"
           },
           "yaxis": {
            "backgroundcolor": "#E5ECF6",
            "gridcolor": "white",
            "gridwidth": 2,
            "linecolor": "white",
            "showbackground": true,
            "ticks": "",
            "zerolinecolor": "white"
           },
           "zaxis": {
            "backgroundcolor": "#E5ECF6",
            "gridcolor": "white",
            "gridwidth": 2,
            "linecolor": "white",
            "showbackground": true,
            "ticks": "",
            "zerolinecolor": "white"
           }
          },
          "shapedefaults": {
           "line": {
            "color": "#2a3f5f"
           }
          },
          "ternary": {
           "aaxis": {
            "gridcolor": "white",
            "linecolor": "white",
            "ticks": ""
           },
           "baxis": {
            "gridcolor": "white",
            "linecolor": "white",
            "ticks": ""
           },
           "bgcolor": "#E5ECF6",
           "caxis": {
            "gridcolor": "white",
            "linecolor": "white",
            "ticks": ""
           }
          },
          "title": {
           "x": 0.05
          },
          "xaxis": {
           "automargin": true,
           "gridcolor": "white",
           "linecolor": "white",
           "ticks": "",
           "title": {
            "standoff": 15
           },
           "zerolinecolor": "white",
           "zerolinewidth": 2
          },
          "yaxis": {
           "automargin": true,
           "gridcolor": "white",
           "linecolor": "white",
           "ticks": "",
           "title": {
            "standoff": 15
           },
           "zerolinecolor": "white",
           "zerolinewidth": 2
          }
         }
        },
        "xaxis": {
         "anchor": "y",
         "domain": [
          0,
          1
         ],
         "title": {
          "text": "datetime"
         }
        },
        "yaxis": {
         "anchor": "x",
         "domain": [
          0,
          1
         ],
         "title": {
          "text": "Elevation"
         }
        }
       }
      }
     },
     "metadata": {},
     "output_type": "display_data"
    }
   ],
   "source": [
    "lake = pd.read_csv('data/lake_df.csv')\n",
    "lake['datetime'] = pd.to_datetime(lake['datetime'])\n",
    "lake_yearly = lake.groupby(lake['datetime'].dt.year).mean().reset_index()\n",
    "px.scatter(lake_yearly, x='datetime', y='Elevation', trendline='ols')\n",
    "# lake_yearly"
   ]
  },
  {
   "cell_type": "code",
   "execution_count": 12,
   "metadata": {},
   "outputs": [
    {
     "name": "stdout",
     "output_type": "stream",
     "text": [
      "0\n",
      "1\n",
      "2\n",
      "3\n",
      "4\n",
      "5\n",
      "6\n",
      "7\n",
      "8\n",
      "9\n",
      "10\n",
      "11\n",
      "12\n",
      "13\n",
      "14\n",
      "15\n",
      "16\n",
      "17\n",
      "18\n",
      "19\n",
      "20\n"
     ]
    },
    {
     "data": {
      "text/html": [
       "<div>\n",
       "<style scoped>\n",
       "    .dataframe tbody tr th:only-of-type {\n",
       "        vertical-align: middle;\n",
       "    }\n",
       "\n",
       "    .dataframe tbody tr th {\n",
       "        vertical-align: top;\n",
       "    }\n",
       "\n",
       "    .dataframe thead th {\n",
       "        text-align: right;\n",
       "    }\n",
       "</style>\n",
       "<table border=\"1\" class=\"dataframe\">\n",
       "  <thead>\n",
       "    <tr style=\"text-align: right;\">\n",
       "      <th></th>\n",
       "      <th>Consumptive Use</th>\n",
       "      <th>Longrun Elevation</th>\n",
       "    </tr>\n",
       "  </thead>\n",
       "  <tbody>\n",
       "    <tr>\n",
       "      <th>0</th>\n",
       "      <td>4.358223</td>\n",
       "      <td>1270.575000</td>\n",
       "    </tr>\n",
       "    <tr>\n",
       "      <th>1</th>\n",
       "      <td>4.140312</td>\n",
       "      <td>1270.958333</td>\n",
       "    </tr>\n",
       "    <tr>\n",
       "      <th>2</th>\n",
       "      <td>3.922401</td>\n",
       "      <td>1271.442500</td>\n",
       "    </tr>\n",
       "    <tr>\n",
       "      <th>3</th>\n",
       "      <td>3.704490</td>\n",
       "      <td>1272.146667</td>\n",
       "    </tr>\n",
       "    <tr>\n",
       "      <th>4</th>\n",
       "      <td>3.486578</td>\n",
       "      <td>1273.050833</td>\n",
       "    </tr>\n",
       "    <tr>\n",
       "      <th>5</th>\n",
       "      <td>3.268667</td>\n",
       "      <td>1274.010833</td>\n",
       "    </tr>\n",
       "    <tr>\n",
       "      <th>6</th>\n",
       "      <td>3.050756</td>\n",
       "      <td>1274.974167</td>\n",
       "    </tr>\n",
       "    <tr>\n",
       "      <th>7</th>\n",
       "      <td>2.832845</td>\n",
       "      <td>1276.019167</td>\n",
       "    </tr>\n",
       "    <tr>\n",
       "      <th>8</th>\n",
       "      <td>2.614934</td>\n",
       "      <td>1277.099167</td>\n",
       "    </tr>\n",
       "    <tr>\n",
       "      <th>9</th>\n",
       "      <td>2.397023</td>\n",
       "      <td>1278.032500</td>\n",
       "    </tr>\n",
       "    <tr>\n",
       "      <th>10</th>\n",
       "      <td>2.179112</td>\n",
       "      <td>1278.470833</td>\n",
       "    </tr>\n",
       "    <tr>\n",
       "      <th>11</th>\n",
       "      <td>1.961200</td>\n",
       "      <td>1278.800833</td>\n",
       "    </tr>\n",
       "    <tr>\n",
       "      <th>12</th>\n",
       "      <td>1.743289</td>\n",
       "      <td>1279.160833</td>\n",
       "    </tr>\n",
       "    <tr>\n",
       "      <th>13</th>\n",
       "      <td>1.525378</td>\n",
       "      <td>1279.570833</td>\n",
       "    </tr>\n",
       "    <tr>\n",
       "      <th>14</th>\n",
       "      <td>1.307467</td>\n",
       "      <td>1279.900833</td>\n",
       "    </tr>\n",
       "    <tr>\n",
       "      <th>15</th>\n",
       "      <td>1.089556</td>\n",
       "      <td>1280.290833</td>\n",
       "    </tr>\n",
       "    <tr>\n",
       "      <th>16</th>\n",
       "      <td>0.871645</td>\n",
       "      <td>1280.686667</td>\n",
       "    </tr>\n",
       "    <tr>\n",
       "      <th>17</th>\n",
       "      <td>0.653733</td>\n",
       "      <td>1281.074167</td>\n",
       "    </tr>\n",
       "    <tr>\n",
       "      <th>18</th>\n",
       "      <td>0.435822</td>\n",
       "      <td>1281.514167</td>\n",
       "    </tr>\n",
       "    <tr>\n",
       "      <th>19</th>\n",
       "      <td>0.217911</td>\n",
       "      <td>1282.078333</td>\n",
       "    </tr>\n",
       "    <tr>\n",
       "      <th>20</th>\n",
       "      <td>0.000000</td>\n",
       "      <td>1282.698333</td>\n",
       "    </tr>\n",
       "  </tbody>\n",
       "</table>\n",
       "</div>"
      ],
      "text/plain": [
       "    Consumptive Use  Longrun Elevation\n",
       "0          4.358223        1270.575000\n",
       "1          4.140312        1270.958333\n",
       "2          3.922401        1271.442500\n",
       "3          3.704490        1272.146667\n",
       "4          3.486578        1273.050833\n",
       "5          3.268667        1274.010833\n",
       "6          3.050756        1274.974167\n",
       "7          2.832845        1276.019167\n",
       "8          2.614934        1277.099167\n",
       "9          2.397023        1278.032500\n",
       "10         2.179112        1278.470833\n",
       "11         1.961200        1278.800833\n",
       "12         1.743289        1279.160833\n",
       "13         1.525378        1279.570833\n",
       "14         1.307467        1279.900833\n",
       "15         1.089556        1280.290833\n",
       "16         0.871645        1280.686667\n",
       "17         0.653733        1281.074167\n",
       "18         0.435822        1281.514167\n",
       "19         0.217911        1282.078333\n",
       "20         0.000000        1282.698333"
      ]
     },
     "execution_count": 12,
     "metadata": {},
     "output_type": "execute_result"
    }
   ],
   "source": [
    "use_vs_elevation = pd.DataFrame(columns = ['Consumptive Use','Longrun Elevation'])\n",
    "for i in range(21):\n",
    "    adjusted_monthly = monthly_stats.copy(deep=True)\n",
    "    adjusted_monthly[DataSchema.streamflow_after_consumption] = adjusted_monthly[DataSchema.streamflow_before_consumption] * (i/20)\n",
    "    year_consumptive_use = (adjusted_monthly[DataSchema.streamflow_before_consumption] - adjusted_monthly[DataSchema.streamflow_after_consumption]).sum()\n",
    "    prediction = GSLPredictor(50, adjusted_monthly, bath, lake)\n",
    "    lr_average = prediction.tail(12)['Elevation Prediction'].mean()\n",
    "    use_vs_elevation.loc[len(use_vs_elevation)] = [year_consumptive_use, lr_average]\n",
    "use_vs_elevation"
   ]
  },
  {
   "cell_type": "code",
   "execution_count": 75,
   "metadata": {},
   "outputs": [
    {
     "data": {
      "application/vnd.plotly.v1+json": {
       "config": {
        "plotlyServerURL": "https://plot.ly"
       },
       "data": [
        {
         "hovertemplate": "Consumptive Use (km3/yr)=%{x}<br>Longrun Elevation=%{y}<extra></extra>",
         "legendgroup": "",
         "line": {
          "color": "#636efa",
          "dash": "solid"
         },
         "marker": {
          "symbol": "circle"
         },
         "mode": "lines",
         "name": "",
         "orientation": "v",
         "showlegend": false,
         "type": "scatter",
         "x": [
          4.358223086848399,
          4.14031193250598,
          3.9224007781635595,
          3.704489623821139,
          3.4865784694787196,
          3.2686673151362995,
          3.0507561607938793,
          2.83284500645146,
          2.614933852109039,
          2.3970226977666194,
          2.1791115434241997,
          1.9612003890817795,
          1.7432892347393598,
          1.5253780803969397,
          1.3074669260545198,
          1.0895557717120998,
          0.8716446173696797,
          0.6537334630272598,
          0.43582230868483995,
          0.21791115434242017,
          0
         ],
         "xaxis": "x",
         "y": [
          1270.575,
          1270.9583333333333,
          1271.4424999999999,
          1272.1466666666665,
          1273.0508333333335,
          1274.0108333333333,
          1274.9741666666666,
          1276.0191666666667,
          1277.0991666666666,
          1278.0325,
          1278.4708333333333,
          1278.8008333333335,
          1279.1608333333336,
          1279.5708333333334,
          1279.9008333333334,
          1280.2908333333332,
          1280.6866666666667,
          1281.0741666666665,
          1281.5141666666666,
          1282.0783333333331,
          1282.6983333333333
         ],
         "yaxis": "y"
        }
       ],
       "layout": {
        "annotations": [
         {
          "showarrow": false,
          "text": "Current consumptive use: 1.77",
          "x": 1.77,
          "xanchor": "left",
          "xref": "x",
          "y": 1,
          "yanchor": "top",
          "yref": "y domain"
         }
        ],
        "legend": {
         "tracegroupgap": 0
        },
        "shapes": [
         {
          "type": "line",
          "x0": 1.77,
          "x1": 1.77,
          "xref": "x",
          "y0": 0,
          "y1": 1,
          "yref": "y domain"
         }
        ],
        "template": {
         "data": {
          "bar": [
           {
            "error_x": {
             "color": "#2a3f5f"
            },
            "error_y": {
             "color": "#2a3f5f"
            },
            "marker": {
             "line": {
              "color": "#E5ECF6",
              "width": 0.5
             },
             "pattern": {
              "fillmode": "overlay",
              "size": 10,
              "solidity": 0.2
             }
            },
            "type": "bar"
           }
          ],
          "barpolar": [
           {
            "marker": {
             "line": {
              "color": "#E5ECF6",
              "width": 0.5
             },
             "pattern": {
              "fillmode": "overlay",
              "size": 10,
              "solidity": 0.2
             }
            },
            "type": "barpolar"
           }
          ],
          "carpet": [
           {
            "aaxis": {
             "endlinecolor": "#2a3f5f",
             "gridcolor": "white",
             "linecolor": "white",
             "minorgridcolor": "white",
             "startlinecolor": "#2a3f5f"
            },
            "baxis": {
             "endlinecolor": "#2a3f5f",
             "gridcolor": "white",
             "linecolor": "white",
             "minorgridcolor": "white",
             "startlinecolor": "#2a3f5f"
            },
            "type": "carpet"
           }
          ],
          "choropleth": [
           {
            "colorbar": {
             "outlinewidth": 0,
             "ticks": ""
            },
            "type": "choropleth"
           }
          ],
          "contour": [
           {
            "colorbar": {
             "outlinewidth": 0,
             "ticks": ""
            },
            "colorscale": [
             [
              0,
              "#0d0887"
             ],
             [
              0.1111111111111111,
              "#46039f"
             ],
             [
              0.2222222222222222,
              "#7201a8"
             ],
             [
              0.3333333333333333,
              "#9c179e"
             ],
             [
              0.4444444444444444,
              "#bd3786"
             ],
             [
              0.5555555555555556,
              "#d8576b"
             ],
             [
              0.6666666666666666,
              "#ed7953"
             ],
             [
              0.7777777777777778,
              "#fb9f3a"
             ],
             [
              0.8888888888888888,
              "#fdca26"
             ],
             [
              1,
              "#f0f921"
             ]
            ],
            "type": "contour"
           }
          ],
          "contourcarpet": [
           {
            "colorbar": {
             "outlinewidth": 0,
             "ticks": ""
            },
            "type": "contourcarpet"
           }
          ],
          "heatmap": [
           {
            "colorbar": {
             "outlinewidth": 0,
             "ticks": ""
            },
            "colorscale": [
             [
              0,
              "#0d0887"
             ],
             [
              0.1111111111111111,
              "#46039f"
             ],
             [
              0.2222222222222222,
              "#7201a8"
             ],
             [
              0.3333333333333333,
              "#9c179e"
             ],
             [
              0.4444444444444444,
              "#bd3786"
             ],
             [
              0.5555555555555556,
              "#d8576b"
             ],
             [
              0.6666666666666666,
              "#ed7953"
             ],
             [
              0.7777777777777778,
              "#fb9f3a"
             ],
             [
              0.8888888888888888,
              "#fdca26"
             ],
             [
              1,
              "#f0f921"
             ]
            ],
            "type": "heatmap"
           }
          ],
          "heatmapgl": [
           {
            "colorbar": {
             "outlinewidth": 0,
             "ticks": ""
            },
            "colorscale": [
             [
              0,
              "#0d0887"
             ],
             [
              0.1111111111111111,
              "#46039f"
             ],
             [
              0.2222222222222222,
              "#7201a8"
             ],
             [
              0.3333333333333333,
              "#9c179e"
             ],
             [
              0.4444444444444444,
              "#bd3786"
             ],
             [
              0.5555555555555556,
              "#d8576b"
             ],
             [
              0.6666666666666666,
              "#ed7953"
             ],
             [
              0.7777777777777778,
              "#fb9f3a"
             ],
             [
              0.8888888888888888,
              "#fdca26"
             ],
             [
              1,
              "#f0f921"
             ]
            ],
            "type": "heatmapgl"
           }
          ],
          "histogram": [
           {
            "marker": {
             "pattern": {
              "fillmode": "overlay",
              "size": 10,
              "solidity": 0.2
             }
            },
            "type": "histogram"
           }
          ],
          "histogram2d": [
           {
            "colorbar": {
             "outlinewidth": 0,
             "ticks": ""
            },
            "colorscale": [
             [
              0,
              "#0d0887"
             ],
             [
              0.1111111111111111,
              "#46039f"
             ],
             [
              0.2222222222222222,
              "#7201a8"
             ],
             [
              0.3333333333333333,
              "#9c179e"
             ],
             [
              0.4444444444444444,
              "#bd3786"
             ],
             [
              0.5555555555555556,
              "#d8576b"
             ],
             [
              0.6666666666666666,
              "#ed7953"
             ],
             [
              0.7777777777777778,
              "#fb9f3a"
             ],
             [
              0.8888888888888888,
              "#fdca26"
             ],
             [
              1,
              "#f0f921"
             ]
            ],
            "type": "histogram2d"
           }
          ],
          "histogram2dcontour": [
           {
            "colorbar": {
             "outlinewidth": 0,
             "ticks": ""
            },
            "colorscale": [
             [
              0,
              "#0d0887"
             ],
             [
              0.1111111111111111,
              "#46039f"
             ],
             [
              0.2222222222222222,
              "#7201a8"
             ],
             [
              0.3333333333333333,
              "#9c179e"
             ],
             [
              0.4444444444444444,
              "#bd3786"
             ],
             [
              0.5555555555555556,
              "#d8576b"
             ],
             [
              0.6666666666666666,
              "#ed7953"
             ],
             [
              0.7777777777777778,
              "#fb9f3a"
             ],
             [
              0.8888888888888888,
              "#fdca26"
             ],
             [
              1,
              "#f0f921"
             ]
            ],
            "type": "histogram2dcontour"
           }
          ],
          "mesh3d": [
           {
            "colorbar": {
             "outlinewidth": 0,
             "ticks": ""
            },
            "type": "mesh3d"
           }
          ],
          "parcoords": [
           {
            "line": {
             "colorbar": {
              "outlinewidth": 0,
              "ticks": ""
             }
            },
            "type": "parcoords"
           }
          ],
          "pie": [
           {
            "automargin": true,
            "type": "pie"
           }
          ],
          "scatter": [
           {
            "fillpattern": {
             "fillmode": "overlay",
             "size": 10,
             "solidity": 0.2
            },
            "type": "scatter"
           }
          ],
          "scatter3d": [
           {
            "line": {
             "colorbar": {
              "outlinewidth": 0,
              "ticks": ""
             }
            },
            "marker": {
             "colorbar": {
              "outlinewidth": 0,
              "ticks": ""
             }
            },
            "type": "scatter3d"
           }
          ],
          "scattercarpet": [
           {
            "marker": {
             "colorbar": {
              "outlinewidth": 0,
              "ticks": ""
             }
            },
            "type": "scattercarpet"
           }
          ],
          "scattergeo": [
           {
            "marker": {
             "colorbar": {
              "outlinewidth": 0,
              "ticks": ""
             }
            },
            "type": "scattergeo"
           }
          ],
          "scattergl": [
           {
            "marker": {
             "colorbar": {
              "outlinewidth": 0,
              "ticks": ""
             }
            },
            "type": "scattergl"
           }
          ],
          "scattermapbox": [
           {
            "marker": {
             "colorbar": {
              "outlinewidth": 0,
              "ticks": ""
             }
            },
            "type": "scattermapbox"
           }
          ],
          "scatterpolar": [
           {
            "marker": {
             "colorbar": {
              "outlinewidth": 0,
              "ticks": ""
             }
            },
            "type": "scatterpolar"
           }
          ],
          "scatterpolargl": [
           {
            "marker": {
             "colorbar": {
              "outlinewidth": 0,
              "ticks": ""
             }
            },
            "type": "scatterpolargl"
           }
          ],
          "scatterternary": [
           {
            "marker": {
             "colorbar": {
              "outlinewidth": 0,
              "ticks": ""
             }
            },
            "type": "scatterternary"
           }
          ],
          "surface": [
           {
            "colorbar": {
             "outlinewidth": 0,
             "ticks": ""
            },
            "colorscale": [
             [
              0,
              "#0d0887"
             ],
             [
              0.1111111111111111,
              "#46039f"
             ],
             [
              0.2222222222222222,
              "#7201a8"
             ],
             [
              0.3333333333333333,
              "#9c179e"
             ],
             [
              0.4444444444444444,
              "#bd3786"
             ],
             [
              0.5555555555555556,
              "#d8576b"
             ],
             [
              0.6666666666666666,
              "#ed7953"
             ],
             [
              0.7777777777777778,
              "#fb9f3a"
             ],
             [
              0.8888888888888888,
              "#fdca26"
             ],
             [
              1,
              "#f0f921"
             ]
            ],
            "type": "surface"
           }
          ],
          "table": [
           {
            "cells": {
             "fill": {
              "color": "#EBF0F8"
             },
             "line": {
              "color": "white"
             }
            },
            "header": {
             "fill": {
              "color": "#C8D4E3"
             },
             "line": {
              "color": "white"
             }
            },
            "type": "table"
           }
          ]
         },
         "layout": {
          "annotationdefaults": {
           "arrowcolor": "#2a3f5f",
           "arrowhead": 0,
           "arrowwidth": 1
          },
          "autotypenumbers": "strict",
          "coloraxis": {
           "colorbar": {
            "outlinewidth": 0,
            "ticks": ""
           }
          },
          "colorscale": {
           "diverging": [
            [
             0,
             "#8e0152"
            ],
            [
             0.1,
             "#c51b7d"
            ],
            [
             0.2,
             "#de77ae"
            ],
            [
             0.3,
             "#f1b6da"
            ],
            [
             0.4,
             "#fde0ef"
            ],
            [
             0.5,
             "#f7f7f7"
            ],
            [
             0.6,
             "#e6f5d0"
            ],
            [
             0.7,
             "#b8e186"
            ],
            [
             0.8,
             "#7fbc41"
            ],
            [
             0.9,
             "#4d9221"
            ],
            [
             1,
             "#276419"
            ]
           ],
           "sequential": [
            [
             0,
             "#0d0887"
            ],
            [
             0.1111111111111111,
             "#46039f"
            ],
            [
             0.2222222222222222,
             "#7201a8"
            ],
            [
             0.3333333333333333,
             "#9c179e"
            ],
            [
             0.4444444444444444,
             "#bd3786"
            ],
            [
             0.5555555555555556,
             "#d8576b"
            ],
            [
             0.6666666666666666,
             "#ed7953"
            ],
            [
             0.7777777777777778,
             "#fb9f3a"
            ],
            [
             0.8888888888888888,
             "#fdca26"
            ],
            [
             1,
             "#f0f921"
            ]
           ],
           "sequentialminus": [
            [
             0,
             "#0d0887"
            ],
            [
             0.1111111111111111,
             "#46039f"
            ],
            [
             0.2222222222222222,
             "#7201a8"
            ],
            [
             0.3333333333333333,
             "#9c179e"
            ],
            [
             0.4444444444444444,
             "#bd3786"
            ],
            [
             0.5555555555555556,
             "#d8576b"
            ],
            [
             0.6666666666666666,
             "#ed7953"
            ],
            [
             0.7777777777777778,
             "#fb9f3a"
            ],
            [
             0.8888888888888888,
             "#fdca26"
            ],
            [
             1,
             "#f0f921"
            ]
           ]
          },
          "colorway": [
           "#636efa",
           "#EF553B",
           "#00cc96",
           "#ab63fa",
           "#FFA15A",
           "#19d3f3",
           "#FF6692",
           "#B6E880",
           "#FF97FF",
           "#FECB52"
          ],
          "font": {
           "color": "#2a3f5f"
          },
          "geo": {
           "bgcolor": "white",
           "lakecolor": "white",
           "landcolor": "#E5ECF6",
           "showlakes": true,
           "showland": true,
           "subunitcolor": "white"
          },
          "hoverlabel": {
           "align": "left"
          },
          "hovermode": "closest",
          "mapbox": {
           "style": "light"
          },
          "paper_bgcolor": "white",
          "plot_bgcolor": "#E5ECF6",
          "polar": {
           "angularaxis": {
            "gridcolor": "white",
            "linecolor": "white",
            "ticks": ""
           },
           "bgcolor": "#E5ECF6",
           "radialaxis": {
            "gridcolor": "white",
            "linecolor": "white",
            "ticks": ""
           }
          },
          "scene": {
           "xaxis": {
            "backgroundcolor": "#E5ECF6",
            "gridcolor": "white",
            "gridwidth": 2,
            "linecolor": "white",
            "showbackground": true,
            "ticks": "",
            "zerolinecolor": "white"
           },
           "yaxis": {
            "backgroundcolor": "#E5ECF6",
            "gridcolor": "white",
            "gridwidth": 2,
            "linecolor": "white",
            "showbackground": true,
            "ticks": "",
            "zerolinecolor": "white"
           },
           "zaxis": {
            "backgroundcolor": "#E5ECF6",
            "gridcolor": "white",
            "gridwidth": 2,
            "linecolor": "white",
            "showbackground": true,
            "ticks": "",
            "zerolinecolor": "white"
           }
          },
          "shapedefaults": {
           "line": {
            "color": "#2a3f5f"
           }
          },
          "ternary": {
           "aaxis": {
            "gridcolor": "white",
            "linecolor": "white",
            "ticks": ""
           },
           "baxis": {
            "gridcolor": "white",
            "linecolor": "white",
            "ticks": ""
           },
           "bgcolor": "#E5ECF6",
           "caxis": {
            "gridcolor": "white",
            "linecolor": "white",
            "ticks": ""
           }
          },
          "title": {
           "x": 0.05
          },
          "xaxis": {
           "automargin": true,
           "gridcolor": "white",
           "linecolor": "white",
           "ticks": "",
           "title": {
            "standoff": 15
           },
           "zerolinecolor": "white",
           "zerolinewidth": 2
          },
          "yaxis": {
           "automargin": true,
           "gridcolor": "white",
           "linecolor": "white",
           "ticks": "",
           "title": {
            "standoff": 15
           },
           "zerolinecolor": "white",
           "zerolinewidth": 2
          }
         }
        },
        "title": {
         "text": "Effect of consumptive use on long run lake elevation"
        },
        "xaxis": {
         "anchor": "y",
         "domain": [
          0,
          1
         ],
         "title": {
          "text": "Consumptive Use (km3/yr)"
         }
        },
        "yaxis": {
         "anchor": "x",
         "domain": [
          0,
          1
         ],
         "title": {
          "text": "Longrun Elevation"
         }
        }
       }
      }
     },
     "metadata": {},
     "output_type": "display_data"
    }
   ],
   "source": [
    "fig = px.line(\n",
    "    use_vs_elevation,\n",
    "    title = 'Effect of consumptive use on long run lake elevation',\n",
    "    x = 'Consumptive Use', \n",
    "    y = 'Longrun Elevation',\n",
    "    labels = {\n",
    "        'Elevation': 'Elevation (m)',\n",
    "        'Consumptive Use': 'Consumptive Use (km3/yr)'\n",
    "    }\n",
    ")\n",
    "\n",
    "CURRENT_CONSUMPTIVE_USE = 1.77\n",
    "fig.add_vline(\n",
    "    x = CURRENT_CONSUMPTIVE_USE,\n",
    "    annotation_text = f\"Current consumptive use: {CURRENT_CONSUMPTIVE_USE}\"\n",
    ")\n",
    "\n",
    "\n",
    "fig.show()"
   ]
  },
  {
   "cell_type": "code",
   "execution_count": 2,
   "metadata": {},
   "outputs": [
    {
     "ename": "NameError",
     "evalue": "name 'lake' is not defined",
     "output_type": "error",
     "traceback": [
      "\u001b[0;31m---------------------------------------------------------------------------\u001b[0m",
      "\u001b[0;31mNameError\u001b[0m                                 Traceback (most recent call last)",
      "\u001b[0;32m/tmp/ipykernel_8753/4057934415.py\u001b[0m in \u001b[0;36m<module>\u001b[0;34m\u001b[0m\n\u001b[0;32m----> 1\u001b[0;31m \u001b[0mlake\u001b[0m\u001b[0;34m\u001b[0m\u001b[0;34m\u001b[0m\u001b[0m\n\u001b[0m",
      "\u001b[0;31mNameError\u001b[0m: name 'lake' is not defined"
     ]
    }
   ],
   "source": [
    "lake"
   ]
  },
  {
   "cell_type": "code",
   "execution_count": 81,
   "metadata": {},
   "outputs": [
    {
     "data": {
      "application/vnd.plotly.v1+json": {
       "config": {
        "plotlyServerURL": "https://plot.ly"
       },
       "data": [
        {
         "arrangement": "snap",
         "link": {
          "source": [
           1,
           2,
           3,
           0,
           4,
           5,
           10,
           10,
           6,
           9,
           11
          ],
          "target": [
           0,
           0,
           0,
           6,
           6,
           6,
           7,
           8,
           10,
           10,
           0
          ],
          "value": [
           1.59,
           0.377,
           0.52,
           2.63,
           0.09,
           1.47,
           0.19,
           4.25,
           4.19,
           0.25,
           0.14
          ]
         },
         "node": {
          "hovertemplate": "%{label}",
          "label": [
           "Streamflow",
           "Bear River",
           "Weber River",
           "Jordan River",
           "Groundwater",
           "Direct Percipitation",
           "Total Water In",
           "Mineral Extraction",
           "Evaporation",
           "Lake Water Lost",
           "Total Water Out",
           "Other Streams"
          ],
          "x": [
           0.25,
           0,
           0,
           0,
           0.25,
           0.25,
           0.5,
           1,
           1,
           0.5,
           0.75,
           0
          ],
          "y": [
           0.5,
           0.5,
           0.5,
           0.5,
           0.5,
           0.5,
           0.5,
           0.5,
           0.5,
           0.5
          ]
         },
         "type": "sankey",
         "valuesuffix": "km^3/yr"
        }
       ],
       "layout": {
        "template": {
         "data": {
          "bar": [
           {
            "error_x": {
             "color": "#2a3f5f"
            },
            "error_y": {
             "color": "#2a3f5f"
            },
            "marker": {
             "line": {
              "color": "#E5ECF6",
              "width": 0.5
             },
             "pattern": {
              "fillmode": "overlay",
              "size": 10,
              "solidity": 0.2
             }
            },
            "type": "bar"
           }
          ],
          "barpolar": [
           {
            "marker": {
             "line": {
              "color": "#E5ECF6",
              "width": 0.5
             },
             "pattern": {
              "fillmode": "overlay",
              "size": 10,
              "solidity": 0.2
             }
            },
            "type": "barpolar"
           }
          ],
          "carpet": [
           {
            "aaxis": {
             "endlinecolor": "#2a3f5f",
             "gridcolor": "white",
             "linecolor": "white",
             "minorgridcolor": "white",
             "startlinecolor": "#2a3f5f"
            },
            "baxis": {
             "endlinecolor": "#2a3f5f",
             "gridcolor": "white",
             "linecolor": "white",
             "minorgridcolor": "white",
             "startlinecolor": "#2a3f5f"
            },
            "type": "carpet"
           }
          ],
          "choropleth": [
           {
            "colorbar": {
             "outlinewidth": 0,
             "ticks": ""
            },
            "type": "choropleth"
           }
          ],
          "contour": [
           {
            "colorbar": {
             "outlinewidth": 0,
             "ticks": ""
            },
            "colorscale": [
             [
              0,
              "#0d0887"
             ],
             [
              0.1111111111111111,
              "#46039f"
             ],
             [
              0.2222222222222222,
              "#7201a8"
             ],
             [
              0.3333333333333333,
              "#9c179e"
             ],
             [
              0.4444444444444444,
              "#bd3786"
             ],
             [
              0.5555555555555556,
              "#d8576b"
             ],
             [
              0.6666666666666666,
              "#ed7953"
             ],
             [
              0.7777777777777778,
              "#fb9f3a"
             ],
             [
              0.8888888888888888,
              "#fdca26"
             ],
             [
              1,
              "#f0f921"
             ]
            ],
            "type": "contour"
           }
          ],
          "contourcarpet": [
           {
            "colorbar": {
             "outlinewidth": 0,
             "ticks": ""
            },
            "type": "contourcarpet"
           }
          ],
          "heatmap": [
           {
            "colorbar": {
             "outlinewidth": 0,
             "ticks": ""
            },
            "colorscale": [
             [
              0,
              "#0d0887"
             ],
             [
              0.1111111111111111,
              "#46039f"
             ],
             [
              0.2222222222222222,
              "#7201a8"
             ],
             [
              0.3333333333333333,
              "#9c179e"
             ],
             [
              0.4444444444444444,
              "#bd3786"
             ],
             [
              0.5555555555555556,
              "#d8576b"
             ],
             [
              0.6666666666666666,
              "#ed7953"
             ],
             [
              0.7777777777777778,
              "#fb9f3a"
             ],
             [
              0.8888888888888888,
              "#fdca26"
             ],
             [
              1,
              "#f0f921"
             ]
            ],
            "type": "heatmap"
           }
          ],
          "heatmapgl": [
           {
            "colorbar": {
             "outlinewidth": 0,
             "ticks": ""
            },
            "colorscale": [
             [
              0,
              "#0d0887"
             ],
             [
              0.1111111111111111,
              "#46039f"
             ],
             [
              0.2222222222222222,
              "#7201a8"
             ],
             [
              0.3333333333333333,
              "#9c179e"
             ],
             [
              0.4444444444444444,
              "#bd3786"
             ],
             [
              0.5555555555555556,
              "#d8576b"
             ],
             [
              0.6666666666666666,
              "#ed7953"
             ],
             [
              0.7777777777777778,
              "#fb9f3a"
             ],
             [
              0.8888888888888888,
              "#fdca26"
             ],
             [
              1,
              "#f0f921"
             ]
            ],
            "type": "heatmapgl"
           }
          ],
          "histogram": [
           {
            "marker": {
             "pattern": {
              "fillmode": "overlay",
              "size": 10,
              "solidity": 0.2
             }
            },
            "type": "histogram"
           }
          ],
          "histogram2d": [
           {
            "colorbar": {
             "outlinewidth": 0,
             "ticks": ""
            },
            "colorscale": [
             [
              0,
              "#0d0887"
             ],
             [
              0.1111111111111111,
              "#46039f"
             ],
             [
              0.2222222222222222,
              "#7201a8"
             ],
             [
              0.3333333333333333,
              "#9c179e"
             ],
             [
              0.4444444444444444,
              "#bd3786"
             ],
             [
              0.5555555555555556,
              "#d8576b"
             ],
             [
              0.6666666666666666,
              "#ed7953"
             ],
             [
              0.7777777777777778,
              "#fb9f3a"
             ],
             [
              0.8888888888888888,
              "#fdca26"
             ],
             [
              1,
              "#f0f921"
             ]
            ],
            "type": "histogram2d"
           }
          ],
          "histogram2dcontour": [
           {
            "colorbar": {
             "outlinewidth": 0,
             "ticks": ""
            },
            "colorscale": [
             [
              0,
              "#0d0887"
             ],
             [
              0.1111111111111111,
              "#46039f"
             ],
             [
              0.2222222222222222,
              "#7201a8"
             ],
             [
              0.3333333333333333,
              "#9c179e"
             ],
             [
              0.4444444444444444,
              "#bd3786"
             ],
             [
              0.5555555555555556,
              "#d8576b"
             ],
             [
              0.6666666666666666,
              "#ed7953"
             ],
             [
              0.7777777777777778,
              "#fb9f3a"
             ],
             [
              0.8888888888888888,
              "#fdca26"
             ],
             [
              1,
              "#f0f921"
             ]
            ],
            "type": "histogram2dcontour"
           }
          ],
          "mesh3d": [
           {
            "colorbar": {
             "outlinewidth": 0,
             "ticks": ""
            },
            "type": "mesh3d"
           }
          ],
          "parcoords": [
           {
            "line": {
             "colorbar": {
              "outlinewidth": 0,
              "ticks": ""
             }
            },
            "type": "parcoords"
           }
          ],
          "pie": [
           {
            "automargin": true,
            "type": "pie"
           }
          ],
          "scatter": [
           {
            "fillpattern": {
             "fillmode": "overlay",
             "size": 10,
             "solidity": 0.2
            },
            "type": "scatter"
           }
          ],
          "scatter3d": [
           {
            "line": {
             "colorbar": {
              "outlinewidth": 0,
              "ticks": ""
             }
            },
            "marker": {
             "colorbar": {
              "outlinewidth": 0,
              "ticks": ""
             }
            },
            "type": "scatter3d"
           }
          ],
          "scattercarpet": [
           {
            "marker": {
             "colorbar": {
              "outlinewidth": 0,
              "ticks": ""
             }
            },
            "type": "scattercarpet"
           }
          ],
          "scattergeo": [
           {
            "marker": {
             "colorbar": {
              "outlinewidth": 0,
              "ticks": ""
             }
            },
            "type": "scattergeo"
           }
          ],
          "scattergl": [
           {
            "marker": {
             "colorbar": {
              "outlinewidth": 0,
              "ticks": ""
             }
            },
            "type": "scattergl"
           }
          ],
          "scattermapbox": [
           {
            "marker": {
             "colorbar": {
              "outlinewidth": 0,
              "ticks": ""
             }
            },
            "type": "scattermapbox"
           }
          ],
          "scatterpolar": [
           {
            "marker": {
             "colorbar": {
              "outlinewidth": 0,
              "ticks": ""
             }
            },
            "type": "scatterpolar"
           }
          ],
          "scatterpolargl": [
           {
            "marker": {
             "colorbar": {
              "outlinewidth": 0,
              "ticks": ""
             }
            },
            "type": "scatterpolargl"
           }
          ],
          "scatterternary": [
           {
            "marker": {
             "colorbar": {
              "outlinewidth": 0,
              "ticks": ""
             }
            },
            "type": "scatterternary"
           }
          ],
          "surface": [
           {
            "colorbar": {
             "outlinewidth": 0,
             "ticks": ""
            },
            "colorscale": [
             [
              0,
              "#0d0887"
             ],
             [
              0.1111111111111111,
              "#46039f"
             ],
             [
              0.2222222222222222,
              "#7201a8"
             ],
             [
              0.3333333333333333,
              "#9c179e"
             ],
             [
              0.4444444444444444,
              "#bd3786"
             ],
             [
              0.5555555555555556,
              "#d8576b"
             ],
             [
              0.6666666666666666,
              "#ed7953"
             ],
             [
              0.7777777777777778,
              "#fb9f3a"
             ],
             [
              0.8888888888888888,
              "#fdca26"
             ],
             [
              1,
              "#f0f921"
             ]
            ],
            "type": "surface"
           }
          ],
          "table": [
           {
            "cells": {
             "fill": {
              "color": "#EBF0F8"
             },
             "line": {
              "color": "white"
             }
            },
            "header": {
             "fill": {
              "color": "#C8D4E3"
             },
             "line": {
              "color": "white"
             }
            },
            "type": "table"
           }
          ]
         },
         "layout": {
          "annotationdefaults": {
           "arrowcolor": "#2a3f5f",
           "arrowhead": 0,
           "arrowwidth": 1
          },
          "autotypenumbers": "strict",
          "coloraxis": {
           "colorbar": {
            "outlinewidth": 0,
            "ticks": ""
           }
          },
          "colorscale": {
           "diverging": [
            [
             0,
             "#8e0152"
            ],
            [
             0.1,
             "#c51b7d"
            ],
            [
             0.2,
             "#de77ae"
            ],
            [
             0.3,
             "#f1b6da"
            ],
            [
             0.4,
             "#fde0ef"
            ],
            [
             0.5,
             "#f7f7f7"
            ],
            [
             0.6,
             "#e6f5d0"
            ],
            [
             0.7,
             "#b8e186"
            ],
            [
             0.8,
             "#7fbc41"
            ],
            [
             0.9,
             "#4d9221"
            ],
            [
             1,
             "#276419"
            ]
           ],
           "sequential": [
            [
             0,
             "#0d0887"
            ],
            [
             0.1111111111111111,
             "#46039f"
            ],
            [
             0.2222222222222222,
             "#7201a8"
            ],
            [
             0.3333333333333333,
             "#9c179e"
            ],
            [
             0.4444444444444444,
             "#bd3786"
            ],
            [
             0.5555555555555556,
             "#d8576b"
            ],
            [
             0.6666666666666666,
             "#ed7953"
            ],
            [
             0.7777777777777778,
             "#fb9f3a"
            ],
            [
             0.8888888888888888,
             "#fdca26"
            ],
            [
             1,
             "#f0f921"
            ]
           ],
           "sequentialminus": [
            [
             0,
             "#0d0887"
            ],
            [
             0.1111111111111111,
             "#46039f"
            ],
            [
             0.2222222222222222,
             "#7201a8"
            ],
            [
             0.3333333333333333,
             "#9c179e"
            ],
            [
             0.4444444444444444,
             "#bd3786"
            ],
            [
             0.5555555555555556,
             "#d8576b"
            ],
            [
             0.6666666666666666,
             "#ed7953"
            ],
            [
             0.7777777777777778,
             "#fb9f3a"
            ],
            [
             0.8888888888888888,
             "#fdca26"
            ],
            [
             1,
             "#f0f921"
            ]
           ]
          },
          "colorway": [
           "#636efa",
           "#EF553B",
           "#00cc96",
           "#ab63fa",
           "#FFA15A",
           "#19d3f3",
           "#FF6692",
           "#B6E880",
           "#FF97FF",
           "#FECB52"
          ],
          "font": {
           "color": "#2a3f5f"
          },
          "geo": {
           "bgcolor": "white",
           "lakecolor": "white",
           "landcolor": "#E5ECF6",
           "showlakes": true,
           "showland": true,
           "subunitcolor": "white"
          },
          "hoverlabel": {
           "align": "left"
          },
          "hovermode": "closest",
          "mapbox": {
           "style": "light"
          },
          "paper_bgcolor": "white",
          "plot_bgcolor": "#E5ECF6",
          "polar": {
           "angularaxis": {
            "gridcolor": "white",
            "linecolor": "white",
            "ticks": ""
           },
           "bgcolor": "#E5ECF6",
           "radialaxis": {
            "gridcolor": "white",
            "linecolor": "white",
            "ticks": ""
           }
          },
          "scene": {
           "xaxis": {
            "backgroundcolor": "#E5ECF6",
            "gridcolor": "white",
            "gridwidth": 2,
            "linecolor": "white",
            "showbackground": true,
            "ticks": "",
            "zerolinecolor": "white"
           },
           "yaxis": {
            "backgroundcolor": "#E5ECF6",
            "gridcolor": "white",
            "gridwidth": 2,
            "linecolor": "white",
            "showbackground": true,
            "ticks": "",
            "zerolinecolor": "white"
           },
           "zaxis": {
            "backgroundcolor": "#E5ECF6",
            "gridcolor": "white",
            "gridwidth": 2,
            "linecolor": "white",
            "showbackground": true,
            "ticks": "",
            "zerolinecolor": "white"
           }
          },
          "shapedefaults": {
           "line": {
            "color": "#2a3f5f"
           }
          },
          "ternary": {
           "aaxis": {
            "gridcolor": "white",
            "linecolor": "white",
            "ticks": ""
           },
           "baxis": {
            "gridcolor": "white",
            "linecolor": "white",
            "ticks": ""
           },
           "bgcolor": "#E5ECF6",
           "caxis": {
            "gridcolor": "white",
            "linecolor": "white",
            "ticks": ""
           }
          },
          "title": {
           "x": 0.05
          },
          "xaxis": {
           "automargin": true,
           "gridcolor": "white",
           "linecolor": "white",
           "ticks": "",
           "title": {
            "standoff": 15
           },
           "zerolinecolor": "white",
           "zerolinewidth": 2
          },
          "yaxis": {
           "automargin": true,
           "gridcolor": "white",
           "linecolor": "white",
           "ticks": "",
           "title": {
            "standoff": 15
           },
           "zerolinecolor": "white",
           "zerolinewidth": 2
          }
         }
        }
       }
      }
     },
     "metadata": {},
     "output_type": "display_data"
    }
   ],
   "source": [
    "import plotly.graph_objects as go\n",
    "\n",
    "labels = [\n",
    "    'Streamflow',\n",
    "    'Bear River',\n",
    "    'Weber River',\n",
    "    'Jordan River',\n",
    "    'Groundwater',\n",
    "    'Direct Percipitation',\n",
    "    'Total Water In',\n",
    "    'Mineral Extraction',\n",
    "    'Evaporation',\n",
    "    'Lake Water Lost',\n",
    "    'Total Water Out',\n",
    "    'Other Streams'\n",
    "]\n",
    "\n",
    "#Data is average from 1963 to 2022. Mineral extraction data is from 1994 to 2014. Other stream data is assumed to be linearly dependent upon the other three streams\n",
    "\n",
    "units = \"km^3/yr\"\n",
    "\n",
    "fig = go.Figure(\n",
    "    data=go.Sankey(\n",
    "        arrangement = \"snap\",\n",
    "        valuesuffix = units,\n",
    "        node = dict(\n",
    "            label = labels,\n",
    "            x = [0.25, 0, 0, 0, 0.25, 0.25, 0.5, 1, 1, 0.5, 0.75, 0],\n",
    "            y = [0.5] * 10,\n",
    "            # y = [1, 1, 0.9, 0.8, 0.8, 0.9, 1, 0.9, 1, 0.9, 1, 0.7],\n",
    "            hovertemplate = \"%{label}\"\n",
    "        ),\n",
    "        link = dict(\n",
    "            source = [1, 2, 3, 0, 4, 5, 10, 10, 6, 9, 11],\n",
    "            target = [0, 0, 0, 6, 6, 6, 7, 8, 10, 10, 0],\n",
    "            value = [1.59, 0.377, 0.52, 2.63, 0.09, 1.47, 0.19, 4.25, 4.19, 0.25, 0.14],\n",
    "            \n",
    "        ),\n",
    "))\n",
    "fig.show()"
   ]
  },
  {
   "cell_type": "code",
   "execution_count": 77,
   "metadata": {},
   "outputs": [],
   "source": [
    "consumptive_use_sunburst_df = pd.DataFrame(columns=['general_category','specific_category'])\n"
   ]
  },
  {
   "cell_type": "code",
   "execution_count": 119,
   "metadata": {},
   "outputs": [
    {
     "data": {
      "text/html": [
       "<div>\n",
       "<style scoped>\n",
       "    .dataframe tbody tr th:only-of-type {\n",
       "        vertical-align: middle;\n",
       "    }\n",
       "\n",
       "    .dataframe tbody tr th {\n",
       "        vertical-align: top;\n",
       "    }\n",
       "\n",
       "    .dataframe thead th {\n",
       "        text-align: right;\n",
       "    }\n",
       "</style>\n",
       "<table border=\"1\" class=\"dataframe\">\n",
       "  <thead>\n",
       "    <tr style=\"text-align: right;\">\n",
       "      <th></th>\n",
       "      <th>Year</th>\n",
       "      <th>Agriculture</th>\n",
       "      <th>Muncipal</th>\n",
       "      <th>Reservoir</th>\n",
       "      <th>Mineral</th>\n",
       "      <th>Wetland</th>\n",
       "      <th>Imports</th>\n",
       "      <th>Net Depletion</th>\n",
       "      <th>Population</th>\n",
       "      <th>datetime</th>\n",
       "    </tr>\n",
       "  </thead>\n",
       "  <tbody>\n",
       "    <tr>\n",
       "      <th>0</th>\n",
       "      <td>1850</td>\n",
       "      <td>0.00</td>\n",
       "      <td>0.0</td>\n",
       "      <td>0.0</td>\n",
       "      <td>0.0</td>\n",
       "      <td>0.0</td>\n",
       "      <td>0.0</td>\n",
       "      <td>0.00</td>\n",
       "      <td>1.188000e+04</td>\n",
       "      <td>1850-01-01</td>\n",
       "    </tr>\n",
       "    <tr>\n",
       "      <th>1</th>\n",
       "      <td>1851</td>\n",
       "      <td>0.03</td>\n",
       "      <td>0.0</td>\n",
       "      <td>0.0</td>\n",
       "      <td>0.0</td>\n",
       "      <td>0.0</td>\n",
       "      <td>0.0</td>\n",
       "      <td>0.03</td>\n",
       "      <td>1.342259e+04</td>\n",
       "      <td>1851-01-01</td>\n",
       "    </tr>\n",
       "    <tr>\n",
       "      <th>2</th>\n",
       "      <td>1852</td>\n",
       "      <td>0.06</td>\n",
       "      <td>0.0</td>\n",
       "      <td>0.0</td>\n",
       "      <td>0.0</td>\n",
       "      <td>0.0</td>\n",
       "      <td>0.0</td>\n",
       "      <td>0.06</td>\n",
       "      <td>1.516547e+04</td>\n",
       "      <td>1852-01-01</td>\n",
       "    </tr>\n",
       "    <tr>\n",
       "      <th>3</th>\n",
       "      <td>1853</td>\n",
       "      <td>0.09</td>\n",
       "      <td>0.0</td>\n",
       "      <td>0.0</td>\n",
       "      <td>0.0</td>\n",
       "      <td>0.0</td>\n",
       "      <td>0.0</td>\n",
       "      <td>0.09</td>\n",
       "      <td>1.713467e+04</td>\n",
       "      <td>1853-01-01</td>\n",
       "    </tr>\n",
       "    <tr>\n",
       "      <th>4</th>\n",
       "      <td>1854</td>\n",
       "      <td>0.12</td>\n",
       "      <td>0.0</td>\n",
       "      <td>0.0</td>\n",
       "      <td>0.0</td>\n",
       "      <td>0.0</td>\n",
       "      <td>0.0</td>\n",
       "      <td>0.12</td>\n",
       "      <td>1.935956e+04</td>\n",
       "      <td>1854-01-01</td>\n",
       "    </tr>\n",
       "    <tr>\n",
       "      <th>...</th>\n",
       "      <td>...</td>\n",
       "      <td>...</td>\n",
       "      <td>...</td>\n",
       "      <td>...</td>\n",
       "      <td>...</td>\n",
       "      <td>...</td>\n",
       "      <td>...</td>\n",
       "      <td>...</td>\n",
       "      <td>...</td>\n",
       "      <td>...</td>\n",
       "    </tr>\n",
       "    <tr>\n",
       "      <th>167</th>\n",
       "      <td>2017</td>\n",
       "      <td>NaN</td>\n",
       "      <td>NaN</td>\n",
       "      <td>NaN</td>\n",
       "      <td>NaN</td>\n",
       "      <td>NaN</td>\n",
       "      <td>NaN</td>\n",
       "      <td>NaN</td>\n",
       "      <td>3.103540e+06</td>\n",
       "      <td>2017-01-01</td>\n",
       "    </tr>\n",
       "    <tr>\n",
       "      <th>168</th>\n",
       "      <td>2018</td>\n",
       "      <td>NaN</td>\n",
       "      <td>NaN</td>\n",
       "      <td>NaN</td>\n",
       "      <td>NaN</td>\n",
       "      <td>NaN</td>\n",
       "      <td>NaN</td>\n",
       "      <td>NaN</td>\n",
       "      <td>3.155153e+06</td>\n",
       "      <td>2018-01-01</td>\n",
       "    </tr>\n",
       "    <tr>\n",
       "      <th>169</th>\n",
       "      <td>2019</td>\n",
       "      <td>NaN</td>\n",
       "      <td>NaN</td>\n",
       "      <td>NaN</td>\n",
       "      <td>NaN</td>\n",
       "      <td>NaN</td>\n",
       "      <td>NaN</td>\n",
       "      <td>NaN</td>\n",
       "      <td>3.203383e+06</td>\n",
       "      <td>2019-01-01</td>\n",
       "    </tr>\n",
       "    <tr>\n",
       "      <th>170</th>\n",
       "      <td>2020</td>\n",
       "      <td>NaN</td>\n",
       "      <td>NaN</td>\n",
       "      <td>NaN</td>\n",
       "      <td>NaN</td>\n",
       "      <td>NaN</td>\n",
       "      <td>NaN</td>\n",
       "      <td>NaN</td>\n",
       "      <td>3.281684e+06</td>\n",
       "      <td>2020-01-01</td>\n",
       "    </tr>\n",
       "    <tr>\n",
       "      <th>171</th>\n",
       "      <td>2021</td>\n",
       "      <td>NaN</td>\n",
       "      <td>NaN</td>\n",
       "      <td>NaN</td>\n",
       "      <td>NaN</td>\n",
       "      <td>NaN</td>\n",
       "      <td>NaN</td>\n",
       "      <td>NaN</td>\n",
       "      <td>3.337975e+06</td>\n",
       "      <td>2021-01-01</td>\n",
       "    </tr>\n",
       "  </tbody>\n",
       "</table>\n",
       "<p>172 rows × 10 columns</p>\n",
       "</div>"
      ],
      "text/plain": [
       "     Year  Agriculture  Muncipal  Reservoir  Mineral  Wetland  Imports  \\\n",
       "0    1850         0.00       0.0        0.0      0.0      0.0      0.0   \n",
       "1    1851         0.03       0.0        0.0      0.0      0.0      0.0   \n",
       "2    1852         0.06       0.0        0.0      0.0      0.0      0.0   \n",
       "3    1853         0.09       0.0        0.0      0.0      0.0      0.0   \n",
       "4    1854         0.12       0.0        0.0      0.0      0.0      0.0   \n",
       "..    ...          ...       ...        ...      ...      ...      ...   \n",
       "167  2017          NaN       NaN        NaN      NaN      NaN      NaN   \n",
       "168  2018          NaN       NaN        NaN      NaN      NaN      NaN   \n",
       "169  2019          NaN       NaN        NaN      NaN      NaN      NaN   \n",
       "170  2020          NaN       NaN        NaN      NaN      NaN      NaN   \n",
       "171  2021          NaN       NaN        NaN      NaN      NaN      NaN   \n",
       "\n",
       "     Net Depletion    Population   datetime  \n",
       "0             0.00  1.188000e+04 1850-01-01  \n",
       "1             0.03  1.342259e+04 1851-01-01  \n",
       "2             0.06  1.516547e+04 1852-01-01  \n",
       "3             0.09  1.713467e+04 1853-01-01  \n",
       "4             0.12  1.935956e+04 1854-01-01  \n",
       "..             ...           ...        ...  \n",
       "167            NaN  3.103540e+06 2017-01-01  \n",
       "168            NaN  3.155153e+06 2018-01-01  \n",
       "169            NaN  3.203383e+06 2019-01-01  \n",
       "170            NaN  3.281684e+06 2020-01-01  \n",
       "171            NaN  3.337975e+06 2021-01-01  \n",
       "\n",
       "[172 rows x 10 columns]"
      ]
     },
     "execution_count": 119,
     "metadata": {},
     "output_type": "execute_result"
    }
   ],
   "source": [
    "yearly_df = pd.read_csv('data/yearly_pop_and_consumption.csv')\n",
    "yearly_df['Population'] *= 1000\n",
    "yearly_df['datetime'] = pd.to_datetime(yearly_df['Year'].astype('str'))\n",
    "yearly_df"
   ]
  },
  {
   "cell_type": "code",
   "execution_count": 126,
   "metadata": {},
   "outputs": [
    {
     "data": {
      "text/html": [
       "<div>\n",
       "<style scoped>\n",
       "    .dataframe tbody tr th:only-of-type {\n",
       "        vertical-align: middle;\n",
       "    }\n",
       "\n",
       "    .dataframe tbody tr th {\n",
       "        vertical-align: top;\n",
       "    }\n",
       "\n",
       "    .dataframe thead th {\n",
       "        text-align: right;\n",
       "    }\n",
       "</style>\n",
       "<table border=\"1\" class=\"dataframe\">\n",
       "  <thead>\n",
       "    <tr style=\"text-align: right;\">\n",
       "      <th></th>\n",
       "      <th>Year</th>\n",
       "      <th>Agriculture</th>\n",
       "      <th>Muncipal</th>\n",
       "      <th>Reservoir</th>\n",
       "      <th>Mineral</th>\n",
       "      <th>Wetland</th>\n",
       "      <th>Imports</th>\n",
       "      <th>Net Depletion</th>\n",
       "      <th>Population</th>\n",
       "      <th>datetime</th>\n",
       "      <th>Agriculture_scaled</th>\n",
       "      <th>Muncipal_scaled</th>\n",
       "      <th>Reservoir_scaled</th>\n",
       "      <th>Mineral_scaled</th>\n",
       "      <th>Wetland_scaled</th>\n",
       "      <th>Imports_scaled</th>\n",
       "      <th>Net Depletion_scaled</th>\n",
       "      <th>Population_scaled</th>\n",
       "    </tr>\n",
       "  </thead>\n",
       "  <tbody>\n",
       "    <tr>\n",
       "      <th>0</th>\n",
       "      <td>1850</td>\n",
       "      <td>0.00</td>\n",
       "      <td>0.0</td>\n",
       "      <td>0.0</td>\n",
       "      <td>0.0</td>\n",
       "      <td>0.0</td>\n",
       "      <td>0.0</td>\n",
       "      <td>0.00</td>\n",
       "      <td>1.188000e+04</td>\n",
       "      <td>1850-01-01</td>\n",
       "      <td>0.000000</td>\n",
       "      <td>0.0</td>\n",
       "      <td>0.0</td>\n",
       "      <td>0.0</td>\n",
       "      <td>0.0</td>\n",
       "      <td>0.0</td>\n",
       "      <td>0.000000</td>\n",
       "      <td>0.355904</td>\n",
       "    </tr>\n",
       "    <tr>\n",
       "      <th>1</th>\n",
       "      <td>1851</td>\n",
       "      <td>0.03</td>\n",
       "      <td>0.0</td>\n",
       "      <td>0.0</td>\n",
       "      <td>0.0</td>\n",
       "      <td>0.0</td>\n",
       "      <td>0.0</td>\n",
       "      <td>0.03</td>\n",
       "      <td>1.342259e+04</td>\n",
       "      <td>1851-01-01</td>\n",
       "      <td>1.796407</td>\n",
       "      <td>0.0</td>\n",
       "      <td>0.0</td>\n",
       "      <td>0.0</td>\n",
       "      <td>0.0</td>\n",
       "      <td>0.0</td>\n",
       "      <td>1.310044</td>\n",
       "      <td>0.402118</td>\n",
       "    </tr>\n",
       "    <tr>\n",
       "      <th>2</th>\n",
       "      <td>1852</td>\n",
       "      <td>0.06</td>\n",
       "      <td>0.0</td>\n",
       "      <td>0.0</td>\n",
       "      <td>0.0</td>\n",
       "      <td>0.0</td>\n",
       "      <td>0.0</td>\n",
       "      <td>0.06</td>\n",
       "      <td>1.516547e+04</td>\n",
       "      <td>1852-01-01</td>\n",
       "      <td>3.592814</td>\n",
       "      <td>0.0</td>\n",
       "      <td>0.0</td>\n",
       "      <td>0.0</td>\n",
       "      <td>0.0</td>\n",
       "      <td>0.0</td>\n",
       "      <td>2.620087</td>\n",
       "      <td>0.454332</td>\n",
       "    </tr>\n",
       "    <tr>\n",
       "      <th>3</th>\n",
       "      <td>1853</td>\n",
       "      <td>0.09</td>\n",
       "      <td>0.0</td>\n",
       "      <td>0.0</td>\n",
       "      <td>0.0</td>\n",
       "      <td>0.0</td>\n",
       "      <td>0.0</td>\n",
       "      <td>0.09</td>\n",
       "      <td>1.713467e+04</td>\n",
       "      <td>1853-01-01</td>\n",
       "      <td>5.389222</td>\n",
       "      <td>0.0</td>\n",
       "      <td>0.0</td>\n",
       "      <td>0.0</td>\n",
       "      <td>0.0</td>\n",
       "      <td>0.0</td>\n",
       "      <td>3.930131</td>\n",
       "      <td>0.513325</td>\n",
       "    </tr>\n",
       "    <tr>\n",
       "      <th>4</th>\n",
       "      <td>1854</td>\n",
       "      <td>0.12</td>\n",
       "      <td>0.0</td>\n",
       "      <td>0.0</td>\n",
       "      <td>0.0</td>\n",
       "      <td>0.0</td>\n",
       "      <td>0.0</td>\n",
       "      <td>0.12</td>\n",
       "      <td>1.935956e+04</td>\n",
       "      <td>1854-01-01</td>\n",
       "      <td>7.185629</td>\n",
       "      <td>0.0</td>\n",
       "      <td>0.0</td>\n",
       "      <td>0.0</td>\n",
       "      <td>0.0</td>\n",
       "      <td>0.0</td>\n",
       "      <td>5.240175</td>\n",
       "      <td>0.579979</td>\n",
       "    </tr>\n",
       "    <tr>\n",
       "      <th>...</th>\n",
       "      <td>...</td>\n",
       "      <td>...</td>\n",
       "      <td>...</td>\n",
       "      <td>...</td>\n",
       "      <td>...</td>\n",
       "      <td>...</td>\n",
       "      <td>...</td>\n",
       "      <td>...</td>\n",
       "      <td>...</td>\n",
       "      <td>...</td>\n",
       "      <td>...</td>\n",
       "      <td>...</td>\n",
       "      <td>...</td>\n",
       "      <td>...</td>\n",
       "      <td>...</td>\n",
       "      <td>...</td>\n",
       "      <td>...</td>\n",
       "      <td>...</td>\n",
       "    </tr>\n",
       "    <tr>\n",
       "      <th>167</th>\n",
       "      <td>2017</td>\n",
       "      <td>NaN</td>\n",
       "      <td>NaN</td>\n",
       "      <td>NaN</td>\n",
       "      <td>NaN</td>\n",
       "      <td>NaN</td>\n",
       "      <td>NaN</td>\n",
       "      <td>NaN</td>\n",
       "      <td>3.103540e+06</td>\n",
       "      <td>2017-01-01</td>\n",
       "      <td>NaN</td>\n",
       "      <td>NaN</td>\n",
       "      <td>NaN</td>\n",
       "      <td>NaN</td>\n",
       "      <td>NaN</td>\n",
       "      <td>NaN</td>\n",
       "      <td>NaN</td>\n",
       "      <td>92.976730</td>\n",
       "    </tr>\n",
       "    <tr>\n",
       "      <th>168</th>\n",
       "      <td>2018</td>\n",
       "      <td>NaN</td>\n",
       "      <td>NaN</td>\n",
       "      <td>NaN</td>\n",
       "      <td>NaN</td>\n",
       "      <td>NaN</td>\n",
       "      <td>NaN</td>\n",
       "      <td>NaN</td>\n",
       "      <td>3.155153e+06</td>\n",
       "      <td>2018-01-01</td>\n",
       "      <td>NaN</td>\n",
       "      <td>NaN</td>\n",
       "      <td>NaN</td>\n",
       "      <td>NaN</td>\n",
       "      <td>NaN</td>\n",
       "      <td>NaN</td>\n",
       "      <td>NaN</td>\n",
       "      <td>94.522967</td>\n",
       "    </tr>\n",
       "    <tr>\n",
       "      <th>169</th>\n",
       "      <td>2019</td>\n",
       "      <td>NaN</td>\n",
       "      <td>NaN</td>\n",
       "      <td>NaN</td>\n",
       "      <td>NaN</td>\n",
       "      <td>NaN</td>\n",
       "      <td>NaN</td>\n",
       "      <td>NaN</td>\n",
       "      <td>3.203383e+06</td>\n",
       "      <td>2019-01-01</td>\n",
       "      <td>NaN</td>\n",
       "      <td>NaN</td>\n",
       "      <td>NaN</td>\n",
       "      <td>NaN</td>\n",
       "      <td>NaN</td>\n",
       "      <td>NaN</td>\n",
       "      <td>NaN</td>\n",
       "      <td>95.967855</td>\n",
       "    </tr>\n",
       "    <tr>\n",
       "      <th>170</th>\n",
       "      <td>2020</td>\n",
       "      <td>NaN</td>\n",
       "      <td>NaN</td>\n",
       "      <td>NaN</td>\n",
       "      <td>NaN</td>\n",
       "      <td>NaN</td>\n",
       "      <td>NaN</td>\n",
       "      <td>NaN</td>\n",
       "      <td>3.281684e+06</td>\n",
       "      <td>2020-01-01</td>\n",
       "      <td>NaN</td>\n",
       "      <td>NaN</td>\n",
       "      <td>NaN</td>\n",
       "      <td>NaN</td>\n",
       "      <td>NaN</td>\n",
       "      <td>NaN</td>\n",
       "      <td>NaN</td>\n",
       "      <td>98.313618</td>\n",
       "    </tr>\n",
       "    <tr>\n",
       "      <th>171</th>\n",
       "      <td>2021</td>\n",
       "      <td>NaN</td>\n",
       "      <td>NaN</td>\n",
       "      <td>NaN</td>\n",
       "      <td>NaN</td>\n",
       "      <td>NaN</td>\n",
       "      <td>NaN</td>\n",
       "      <td>NaN</td>\n",
       "      <td>3.337975e+06</td>\n",
       "      <td>2021-01-01</td>\n",
       "      <td>NaN</td>\n",
       "      <td>NaN</td>\n",
       "      <td>NaN</td>\n",
       "      <td>NaN</td>\n",
       "      <td>NaN</td>\n",
       "      <td>NaN</td>\n",
       "      <td>NaN</td>\n",
       "      <td>100.000000</td>\n",
       "    </tr>\n",
       "  </tbody>\n",
       "</table>\n",
       "<p>172 rows × 18 columns</p>\n",
       "</div>"
      ],
      "text/plain": [
       "     Year  Agriculture  Muncipal  Reservoir  Mineral  Wetland  Imports  \\\n",
       "0    1850         0.00       0.0        0.0      0.0      0.0      0.0   \n",
       "1    1851         0.03       0.0        0.0      0.0      0.0      0.0   \n",
       "2    1852         0.06       0.0        0.0      0.0      0.0      0.0   \n",
       "3    1853         0.09       0.0        0.0      0.0      0.0      0.0   \n",
       "4    1854         0.12       0.0        0.0      0.0      0.0      0.0   \n",
       "..    ...          ...       ...        ...      ...      ...      ...   \n",
       "167  2017          NaN       NaN        NaN      NaN      NaN      NaN   \n",
       "168  2018          NaN       NaN        NaN      NaN      NaN      NaN   \n",
       "169  2019          NaN       NaN        NaN      NaN      NaN      NaN   \n",
       "170  2020          NaN       NaN        NaN      NaN      NaN      NaN   \n",
       "171  2021          NaN       NaN        NaN      NaN      NaN      NaN   \n",
       "\n",
       "     Net Depletion    Population   datetime  Agriculture_scaled  \\\n",
       "0             0.00  1.188000e+04 1850-01-01            0.000000   \n",
       "1             0.03  1.342259e+04 1851-01-01            1.796407   \n",
       "2             0.06  1.516547e+04 1852-01-01            3.592814   \n",
       "3             0.09  1.713467e+04 1853-01-01            5.389222   \n",
       "4             0.12  1.935956e+04 1854-01-01            7.185629   \n",
       "..             ...           ...        ...                 ...   \n",
       "167            NaN  3.103540e+06 2017-01-01                 NaN   \n",
       "168            NaN  3.155153e+06 2018-01-01                 NaN   \n",
       "169            NaN  3.203383e+06 2019-01-01                 NaN   \n",
       "170            NaN  3.281684e+06 2020-01-01                 NaN   \n",
       "171            NaN  3.337975e+06 2021-01-01                 NaN   \n",
       "\n",
       "     Muncipal_scaled  Reservoir_scaled  Mineral_scaled  Wetland_scaled  \\\n",
       "0                0.0               0.0             0.0             0.0   \n",
       "1                0.0               0.0             0.0             0.0   \n",
       "2                0.0               0.0             0.0             0.0   \n",
       "3                0.0               0.0             0.0             0.0   \n",
       "4                0.0               0.0             0.0             0.0   \n",
       "..               ...               ...             ...             ...   \n",
       "167              NaN               NaN             NaN             NaN   \n",
       "168              NaN               NaN             NaN             NaN   \n",
       "169              NaN               NaN             NaN             NaN   \n",
       "170              NaN               NaN             NaN             NaN   \n",
       "171              NaN               NaN             NaN             NaN   \n",
       "\n",
       "     Imports_scaled  Net Depletion_scaled  Population_scaled  \n",
       "0               0.0              0.000000           0.355904  \n",
       "1               0.0              1.310044           0.402118  \n",
       "2               0.0              2.620087           0.454332  \n",
       "3               0.0              3.930131           0.513325  \n",
       "4               0.0              5.240175           0.579979  \n",
       "..              ...                   ...                ...  \n",
       "167             NaN                   NaN          92.976730  \n",
       "168             NaN                   NaN          94.522967  \n",
       "169             NaN                   NaN          95.967855  \n",
       "170             NaN                   NaN          98.313618  \n",
       "171             NaN                   NaN         100.000000  \n",
       "\n",
       "[172 rows x 18 columns]"
      ]
     },
     "execution_count": 126,
     "metadata": {},
     "output_type": "execute_result"
    }
   ],
   "source": [
    "yearly_df = pd.read_csv('data/yearly_pop_and_consumption.csv')\n",
    "yearly_df['Population'] *= 1000\n",
    "yearly_df['datetime'] = pd.to_datetime(yearly_df['Year'].astype('str'))\n",
    "\n",
    "for column in yearly_df:\n",
    "    if column == 'Year' or column == 'datetime':\n",
    "        pass\n",
    "    else:\n",
    "        label = f'{column}_scaled'\n",
    "        yearly_df[label] = (yearly_df[column] / yearly_df[column].max()) * 100\n",
    "\n",
    "yearly_df"
   ]
  },
  {
   "cell_type": "code",
   "execution_count": 128,
   "metadata": {},
   "outputs": [
    {
     "ename": "ValueError",
     "evalue": "All arguments should have the same length. The length of argument `y` is 4, whereas the length of  previously-processed arguments ['datetime'] is 172",
     "output_type": "error",
     "traceback": [
      "\u001b[0;31m---------------------------------------------------------------------------\u001b[0m",
      "\u001b[0;31mValueError\u001b[0m                                Traceback (most recent call last)",
      "\u001b[0;32m/tmp/ipykernel_16580/3121939069.py\u001b[0m in \u001b[0;36m<module>\u001b[0;34m\u001b[0m\n\u001b[0;32m----> 1\u001b[0;31m fig = px.scatter(\n\u001b[0m\u001b[1;32m      2\u001b[0m     \u001b[0myearly_df\u001b[0m\u001b[0;34m,\u001b[0m\u001b[0;34m\u001b[0m\u001b[0;34m\u001b[0m\u001b[0m\n\u001b[1;32m      3\u001b[0m     \u001b[0mx\u001b[0m\u001b[0;34m=\u001b[0m\u001b[0;34m'datetime'\u001b[0m\u001b[0;34m,\u001b[0m\u001b[0;34m\u001b[0m\u001b[0;34m\u001b[0m\u001b[0m\n\u001b[1;32m      4\u001b[0m     \u001b[0my\u001b[0m\u001b[0;34m=\u001b[0m\u001b[0;34m[\u001b[0m\u001b[0;34m'Net Depletion_scaled'\u001b[0m\u001b[0;34m,\u001b[0m\u001b[0;34m'Population_scaled'\u001b[0m\u001b[0;34m,\u001b[0m\u001b[0;34m'Agriculture_scaled'\u001b[0m\u001b[0;34m,\u001b[0m\u001b[0;34m'Municipal_scaled'\u001b[0m\u001b[0;34m]\u001b[0m\u001b[0;34m,\u001b[0m\u001b[0;34m\u001b[0m\u001b[0;34m\u001b[0m\u001b[0m\n\u001b[1;32m      5\u001b[0m     \u001b[0mtrendline\u001b[0m\u001b[0;34m=\u001b[0m\u001b[0;34m'rolling'\u001b[0m\u001b[0;34m,\u001b[0m\u001b[0;34m\u001b[0m\u001b[0;34m\u001b[0m\u001b[0m\n",
      "\u001b[0;32m~/anaconda3/lib/python3.9/site-packages/plotly/express/_chart_types.py\u001b[0m in \u001b[0;36mscatter\u001b[0;34m(data_frame, x, y, color, symbol, size, hover_name, hover_data, custom_data, text, facet_row, facet_col, facet_col_wrap, facet_row_spacing, facet_col_spacing, error_x, error_x_minus, error_y, error_y_minus, animation_frame, animation_group, category_orders, labels, orientation, color_discrete_sequence, color_discrete_map, color_continuous_scale, range_color, color_continuous_midpoint, symbol_sequence, symbol_map, opacity, size_max, marginal_x, marginal_y, trendline, trendline_options, trendline_color_override, trendline_scope, log_x, log_y, range_x, range_y, render_mode, title, template, width, height)\u001b[0m\n\u001b[1;32m     64\u001b[0m     \u001b[0mmark\u001b[0m \u001b[0;32min\u001b[0m \u001b[0;36m2\u001b[0m\u001b[0mD\u001b[0m \u001b[0mspace\u001b[0m\u001b[0;34m.\u001b[0m\u001b[0;34m\u001b[0m\u001b[0;34m\u001b[0m\u001b[0m\n\u001b[1;32m     65\u001b[0m     \"\"\"\n\u001b[0;32m---> 66\u001b[0;31m     \u001b[0;32mreturn\u001b[0m \u001b[0mmake_figure\u001b[0m\u001b[0;34m(\u001b[0m\u001b[0margs\u001b[0m\u001b[0;34m=\u001b[0m\u001b[0mlocals\u001b[0m\u001b[0;34m(\u001b[0m\u001b[0;34m)\u001b[0m\u001b[0;34m,\u001b[0m \u001b[0mconstructor\u001b[0m\u001b[0;34m=\u001b[0m\u001b[0mgo\u001b[0m\u001b[0;34m.\u001b[0m\u001b[0mScatter\u001b[0m\u001b[0;34m)\u001b[0m\u001b[0;34m\u001b[0m\u001b[0;34m\u001b[0m\u001b[0m\n\u001b[0m\u001b[1;32m     67\u001b[0m \u001b[0;34m\u001b[0m\u001b[0m\n\u001b[1;32m     68\u001b[0m \u001b[0;34m\u001b[0m\u001b[0m\n",
      "\u001b[0;32m~/anaconda3/lib/python3.9/site-packages/plotly/express/_core.py\u001b[0m in \u001b[0;36mmake_figure\u001b[0;34m(args, constructor, trace_patch, layout_patch)\u001b[0m\n\u001b[1;32m   1988\u001b[0m     \u001b[0mapply_default_cascade\u001b[0m\u001b[0;34m(\u001b[0m\u001b[0margs\u001b[0m\u001b[0;34m)\u001b[0m\u001b[0;34m\u001b[0m\u001b[0;34m\u001b[0m\u001b[0m\n\u001b[1;32m   1989\u001b[0m \u001b[0;34m\u001b[0m\u001b[0m\n\u001b[0;32m-> 1990\u001b[0;31m     \u001b[0margs\u001b[0m \u001b[0;34m=\u001b[0m \u001b[0mbuild_dataframe\u001b[0m\u001b[0;34m(\u001b[0m\u001b[0margs\u001b[0m\u001b[0;34m,\u001b[0m \u001b[0mconstructor\u001b[0m\u001b[0;34m)\u001b[0m\u001b[0;34m\u001b[0m\u001b[0;34m\u001b[0m\u001b[0m\n\u001b[0m\u001b[1;32m   1991\u001b[0m     \u001b[0;32mif\u001b[0m \u001b[0mconstructor\u001b[0m \u001b[0;32min\u001b[0m \u001b[0;34m[\u001b[0m\u001b[0mgo\u001b[0m\u001b[0;34m.\u001b[0m\u001b[0mTreemap\u001b[0m\u001b[0;34m,\u001b[0m \u001b[0mgo\u001b[0m\u001b[0;34m.\u001b[0m\u001b[0mSunburst\u001b[0m\u001b[0;34m,\u001b[0m \u001b[0mgo\u001b[0m\u001b[0;34m.\u001b[0m\u001b[0mIcicle\u001b[0m\u001b[0;34m]\u001b[0m \u001b[0;32mand\u001b[0m \u001b[0margs\u001b[0m\u001b[0;34m[\u001b[0m\u001b[0;34m\"path\"\u001b[0m\u001b[0;34m]\u001b[0m \u001b[0;32mis\u001b[0m \u001b[0;32mnot\u001b[0m \u001b[0;32mNone\u001b[0m\u001b[0;34m:\u001b[0m\u001b[0;34m\u001b[0m\u001b[0;34m\u001b[0m\u001b[0m\n\u001b[1;32m   1992\u001b[0m         \u001b[0margs\u001b[0m \u001b[0;34m=\u001b[0m \u001b[0mprocess_dataframe_hierarchy\u001b[0m\u001b[0;34m(\u001b[0m\u001b[0margs\u001b[0m\u001b[0;34m)\u001b[0m\u001b[0;34m\u001b[0m\u001b[0;34m\u001b[0m\u001b[0m\n",
      "\u001b[0;32m~/anaconda3/lib/python3.9/site-packages/plotly/express/_core.py\u001b[0m in \u001b[0;36mbuild_dataframe\u001b[0;34m(args, constructor)\u001b[0m\n\u001b[1;32m   1403\u001b[0m     \u001b[0;31m# now that things have been prepped, we do the systematic rewriting of `args`\u001b[0m\u001b[0;34m\u001b[0m\u001b[0;34m\u001b[0m\u001b[0m\n\u001b[1;32m   1404\u001b[0m \u001b[0;34m\u001b[0m\u001b[0m\n\u001b[0;32m-> 1405\u001b[0;31m     df_output, wide_id_vars = process_args_into_dataframe(\n\u001b[0m\u001b[1;32m   1406\u001b[0m         \u001b[0margs\u001b[0m\u001b[0;34m,\u001b[0m \u001b[0mwide_mode\u001b[0m\u001b[0;34m,\u001b[0m \u001b[0mvar_name\u001b[0m\u001b[0;34m,\u001b[0m \u001b[0mvalue_name\u001b[0m\u001b[0;34m\u001b[0m\u001b[0;34m\u001b[0m\u001b[0m\n\u001b[1;32m   1407\u001b[0m     )\n",
      "\u001b[0;32m~/anaconda3/lib/python3.9/site-packages/plotly/express/_core.py\u001b[0m in \u001b[0;36mprocess_args_into_dataframe\u001b[0;34m(args, wide_mode, var_name, value_name)\u001b[0m\n\u001b[1;32m   1243\u001b[0m \u001b[0;34m\u001b[0m\u001b[0m\n\u001b[1;32m   1244\u001b[0m                 \u001b[0;32mif\u001b[0m \u001b[0mlength\u001b[0m \u001b[0;32mand\u001b[0m \u001b[0mlen\u001b[0m\u001b[0;34m(\u001b[0m\u001b[0margument\u001b[0m\u001b[0;34m)\u001b[0m \u001b[0;34m!=\u001b[0m \u001b[0mlength\u001b[0m\u001b[0;34m:\u001b[0m\u001b[0;34m\u001b[0m\u001b[0;34m\u001b[0m\u001b[0m\n\u001b[0;32m-> 1245\u001b[0;31m                     raise ValueError(\n\u001b[0m\u001b[1;32m   1246\u001b[0m                         \u001b[0;34m\"All arguments should have the same length. \"\u001b[0m\u001b[0;34m\u001b[0m\u001b[0;34m\u001b[0m\u001b[0m\n\u001b[1;32m   1247\u001b[0m                         \u001b[0;34m\"The length of argument `%s` is %d, whereas the \"\u001b[0m\u001b[0;34m\u001b[0m\u001b[0;34m\u001b[0m\u001b[0m\n",
      "\u001b[0;31mValueError\u001b[0m: All arguments should have the same length. The length of argument `y` is 4, whereas the length of  previously-processed arguments ['datetime'] is 172"
     ]
    }
   ],
   "source": [
    "fig = px.scatter(\n",
    "    yearly_df, \n",
    "    x='datetime', \n",
    "    y=['Net Depletion_scaled','Population_scaled','Agriculture_scaled','Municipal_scaled'],\n",
    "    trendline='rolling', \n",
    "    trendline_options=dict(window=5),\n",
    "    labels = {\n",
    "        'value':'Percent of maximum',\n",
    "        'datetime':'Year'\n",
    "    },\n",
    ")\n",
    "fig.data = [t for t in fig.data if t.mode == 'lines']\n",
    "start_date = \"1960-01-01\"\n",
    "end_date = \"2020-01-01\"\n",
    "fig.update_xaxes(type='date', range=[start_date, end_date])\n",
    "fig.show()"
   ]
  },
  {
   "cell_type": "code",
   "execution_count": 109,
   "metadata": {},
   "outputs": [
    {
     "data": {
      "application/vnd.plotly.v1+json": {
       "config": {
        "plotlyServerURL": "https://plot.ly"
       },
       "data": [
        {
         "name": "Agriculture",
         "type": "scatter",
         "x": [
          "1850-01-01T00:00:00",
          "1851-01-01T00:00:00",
          "1852-01-01T00:00:00",
          "1853-01-01T00:00:00",
          "1854-01-01T00:00:00",
          "1855-01-01T00:00:00",
          "1856-01-01T00:00:00",
          "1857-01-01T00:00:00",
          "1858-01-01T00:00:00",
          "1859-01-01T00:00:00",
          "1860-01-01T00:00:00",
          "1861-01-01T00:00:00",
          "1862-01-01T00:00:00",
          "1863-01-01T00:00:00",
          "1864-01-01T00:00:00",
          "1865-01-01T00:00:00",
          "1866-01-01T00:00:00",
          "1867-01-01T00:00:00",
          "1868-01-01T00:00:00",
          "1869-01-01T00:00:00",
          "1870-01-01T00:00:00",
          "1871-01-01T00:00:00",
          "1872-01-01T00:00:00",
          "1873-01-01T00:00:00",
          "1874-01-01T00:00:00",
          "1875-01-01T00:00:00",
          "1876-01-01T00:00:00",
          "1877-01-01T00:00:00",
          "1878-01-01T00:00:00",
          "1879-01-01T00:00:00",
          "1880-01-01T00:00:00",
          "1881-01-01T00:00:00",
          "1882-01-01T00:00:00",
          "1883-01-01T00:00:00",
          "1884-01-01T00:00:00",
          "1885-01-01T00:00:00",
          "1886-01-01T00:00:00",
          "1887-01-01T00:00:00",
          "1888-01-01T00:00:00",
          "1889-01-01T00:00:00",
          "1890-01-01T00:00:00",
          "1891-01-01T00:00:00",
          "1892-01-01T00:00:00",
          "1893-01-01T00:00:00",
          "1894-01-01T00:00:00",
          "1895-01-01T00:00:00",
          "1896-01-01T00:00:00",
          "1897-01-01T00:00:00",
          "1898-01-01T00:00:00",
          "1899-01-01T00:00:00",
          "1900-01-01T00:00:00",
          "1901-01-01T00:00:00",
          "1902-01-01T00:00:00",
          "1903-01-01T00:00:00",
          "1904-01-01T00:00:00",
          "1905-01-01T00:00:00",
          "1906-01-01T00:00:00",
          "1907-01-01T00:00:00",
          "1908-01-01T00:00:00",
          "1909-01-01T00:00:00",
          "1910-01-01T00:00:00",
          "1911-01-01T00:00:00",
          "1912-01-01T00:00:00",
          "1913-01-01T00:00:00",
          "1914-01-01T00:00:00",
          "1915-01-01T00:00:00",
          "1916-01-01T00:00:00",
          "1917-01-01T00:00:00",
          "1918-01-01T00:00:00",
          "1919-01-01T00:00:00",
          "1920-01-01T00:00:00",
          "1921-01-01T00:00:00",
          "1922-01-01T00:00:00",
          "1923-01-01T00:00:00",
          "1924-01-01T00:00:00",
          "1925-01-01T00:00:00",
          "1926-01-01T00:00:00",
          "1927-01-01T00:00:00",
          "1928-01-01T00:00:00",
          "1929-01-01T00:00:00",
          "1930-01-01T00:00:00",
          "1931-01-01T00:00:00",
          "1932-01-01T00:00:00",
          "1933-01-01T00:00:00",
          "1934-01-01T00:00:00",
          "1935-01-01T00:00:00",
          "1936-01-01T00:00:00",
          "1937-01-01T00:00:00",
          "1938-01-01T00:00:00",
          "1939-01-01T00:00:00",
          "1940-01-01T00:00:00",
          "1941-01-01T00:00:00",
          "1942-01-01T00:00:00",
          "1943-01-01T00:00:00",
          "1944-01-01T00:00:00",
          "1945-01-01T00:00:00",
          "1946-01-01T00:00:00",
          "1947-01-01T00:00:00",
          "1948-01-01T00:00:00",
          "1949-01-01T00:00:00",
          "1950-01-01T00:00:00",
          "1951-01-01T00:00:00",
          "1952-01-01T00:00:00",
          "1953-01-01T00:00:00",
          "1954-01-01T00:00:00",
          "1955-01-01T00:00:00",
          "1956-01-01T00:00:00",
          "1957-01-01T00:00:00",
          "1958-01-01T00:00:00",
          "1959-01-01T00:00:00",
          "1960-01-01T00:00:00",
          "1961-01-01T00:00:00",
          "1962-01-01T00:00:00",
          "1963-01-01T00:00:00",
          "1964-01-01T00:00:00",
          "1965-01-01T00:00:00",
          "1966-01-01T00:00:00",
          "1967-01-01T00:00:00",
          "1968-01-01T00:00:00",
          "1969-01-01T00:00:00",
          "1970-01-01T00:00:00",
          "1971-01-01T00:00:00",
          "1972-01-01T00:00:00",
          "1973-01-01T00:00:00",
          "1974-01-01T00:00:00",
          "1975-01-01T00:00:00",
          "1976-01-01T00:00:00",
          "1977-01-01T00:00:00",
          "1978-01-01T00:00:00",
          "1979-01-01T00:00:00",
          "1980-01-01T00:00:00",
          "1981-01-01T00:00:00",
          "1982-01-01T00:00:00",
          "1983-01-01T00:00:00",
          "1984-01-01T00:00:00",
          "1985-01-01T00:00:00",
          "1986-01-01T00:00:00",
          "1987-01-01T00:00:00",
          "1988-01-01T00:00:00",
          "1989-01-01T00:00:00",
          "1990-01-01T00:00:00",
          "1991-01-01T00:00:00",
          "1992-01-01T00:00:00",
          "1993-01-01T00:00:00",
          "1994-01-01T00:00:00",
          "1995-01-01T00:00:00",
          "1996-01-01T00:00:00",
          "1997-01-01T00:00:00",
          "1998-01-01T00:00:00",
          "1999-01-01T00:00:00",
          "2000-01-01T00:00:00",
          "2001-01-01T00:00:00",
          "2002-01-01T00:00:00",
          "2003-01-01T00:00:00",
          "2004-01-01T00:00:00",
          "2005-01-01T00:00:00",
          "2006-01-01T00:00:00",
          "2007-01-01T00:00:00",
          "2008-01-01T00:00:00",
          "2009-01-01T00:00:00",
          "2010-01-01T00:00:00",
          "2011-01-01T00:00:00",
          "2012-01-01T00:00:00",
          "2013-01-01T00:00:00",
          "2014-01-01T00:00:00",
          "2015-01-01T00:00:00",
          "2016-01-01T00:00:00",
          "2017-01-01T00:00:00",
          "2018-01-01T00:00:00",
          "2019-01-01T00:00:00",
          "2020-01-01T00:00:00",
          "2021-01-01T00:00:00"
         ],
         "xaxis": "x",
         "y": [
          0,
          0.03,
          0.06,
          0.09,
          0.12,
          0.15,
          0.17,
          0.2,
          0.23,
          0.26,
          0.28,
          0.31,
          0.33,
          0.36,
          0.38,
          0.41,
          0.43,
          0.46,
          0.48,
          0.5,
          0.52,
          0.55,
          0.57,
          0.59,
          0.61,
          0.64,
          0.66,
          0.68,
          0.7,
          0.72,
          0.75,
          0.77,
          0.79,
          0.81,
          0.83,
          0.85,
          0.87,
          0.89,
          0.91,
          0.93,
          0.95,
          0.97,
          0.99,
          1.01,
          1.03,
          1.05,
          1.07,
          1.09,
          1.1,
          1.12,
          1.14,
          1.16,
          1.18,
          1.2,
          1.22,
          1.24,
          1.25,
          1.27,
          1.29,
          1.3,
          1.32,
          1.34,
          1.35,
          1.37,
          1.39,
          1.4,
          1.42,
          1.43,
          1.45,
          1.45,
          1.45,
          1.45,
          1.44,
          1.44,
          1.43,
          1.42,
          1.41,
          1.4,
          1.4,
          1.39,
          1.39,
          1.38,
          1.37,
          1.37,
          1.36,
          1.36,
          1.35,
          1.35,
          1.34,
          1.34,
          1.34,
          1.34,
          1.34,
          1.34,
          1.34,
          1.34,
          1.35,
          1.35,
          1.35,
          1.36,
          1.36,
          1.37,
          1.38,
          1.38,
          1.39,
          1.4,
          1.4,
          1.41,
          1.42,
          1.43,
          1.44,
          1.45,
          1.46,
          1.47,
          1.48,
          1.48,
          1.48,
          1.48,
          1.48,
          1.48,
          1.48,
          1.48,
          1.48,
          1.48,
          1.48,
          1.48,
          1.48,
          1.48,
          1.48,
          1.48,
          1.48,
          1.48,
          1.48,
          1.48,
          1.48,
          1.48,
          1.48,
          1.48,
          1.48,
          1.46,
          1.51,
          1.24,
          1.4,
          0.79,
          1.4,
          0.77,
          1.25,
          0.78,
          0.81,
          1.1,
          1.6,
          1.67,
          1.38,
          1.51,
          1.07,
          0.57,
          1.17,
          1.56,
          1.35,
          1.04,
          1.36,
          0.7,
          1.47,
          1.39,
          null,
          null,
          null,
          null,
          null,
          null,
          null,
          null
         ],
         "yaxis": "y"
        },
        {
         "name": "Population",
         "type": "scatter",
         "x": [
          "1850-01-01T00:00:00",
          "1851-01-01T00:00:00",
          "1852-01-01T00:00:00",
          "1853-01-01T00:00:00",
          "1854-01-01T00:00:00",
          "1855-01-01T00:00:00",
          "1856-01-01T00:00:00",
          "1857-01-01T00:00:00",
          "1858-01-01T00:00:00",
          "1859-01-01T00:00:00",
          "1860-01-01T00:00:00",
          "1861-01-01T00:00:00",
          "1862-01-01T00:00:00",
          "1863-01-01T00:00:00",
          "1864-01-01T00:00:00",
          "1865-01-01T00:00:00",
          "1866-01-01T00:00:00",
          "1867-01-01T00:00:00",
          "1868-01-01T00:00:00",
          "1869-01-01T00:00:00",
          "1870-01-01T00:00:00",
          "1871-01-01T00:00:00",
          "1872-01-01T00:00:00",
          "1873-01-01T00:00:00",
          "1874-01-01T00:00:00",
          "1875-01-01T00:00:00",
          "1876-01-01T00:00:00",
          "1877-01-01T00:00:00",
          "1878-01-01T00:00:00",
          "1879-01-01T00:00:00",
          "1880-01-01T00:00:00",
          "1881-01-01T00:00:00",
          "1882-01-01T00:00:00",
          "1883-01-01T00:00:00",
          "1884-01-01T00:00:00",
          "1885-01-01T00:00:00",
          "1886-01-01T00:00:00",
          "1887-01-01T00:00:00",
          "1888-01-01T00:00:00",
          "1889-01-01T00:00:00",
          "1890-01-01T00:00:00",
          "1891-01-01T00:00:00",
          "1892-01-01T00:00:00",
          "1893-01-01T00:00:00",
          "1894-01-01T00:00:00",
          "1895-01-01T00:00:00",
          "1896-01-01T00:00:00",
          "1897-01-01T00:00:00",
          "1898-01-01T00:00:00",
          "1899-01-01T00:00:00",
          "1900-01-01T00:00:00",
          "1901-01-01T00:00:00",
          "1902-01-01T00:00:00",
          "1903-01-01T00:00:00",
          "1904-01-01T00:00:00",
          "1905-01-01T00:00:00",
          "1906-01-01T00:00:00",
          "1907-01-01T00:00:00",
          "1908-01-01T00:00:00",
          "1909-01-01T00:00:00",
          "1910-01-01T00:00:00",
          "1911-01-01T00:00:00",
          "1912-01-01T00:00:00",
          "1913-01-01T00:00:00",
          "1914-01-01T00:00:00",
          "1915-01-01T00:00:00",
          "1916-01-01T00:00:00",
          "1917-01-01T00:00:00",
          "1918-01-01T00:00:00",
          "1919-01-01T00:00:00",
          "1920-01-01T00:00:00",
          "1921-01-01T00:00:00",
          "1922-01-01T00:00:00",
          "1923-01-01T00:00:00",
          "1924-01-01T00:00:00",
          "1925-01-01T00:00:00",
          "1926-01-01T00:00:00",
          "1927-01-01T00:00:00",
          "1928-01-01T00:00:00",
          "1929-01-01T00:00:00",
          "1930-01-01T00:00:00",
          "1931-01-01T00:00:00",
          "1932-01-01T00:00:00",
          "1933-01-01T00:00:00",
          "1934-01-01T00:00:00",
          "1935-01-01T00:00:00",
          "1936-01-01T00:00:00",
          "1937-01-01T00:00:00",
          "1938-01-01T00:00:00",
          "1939-01-01T00:00:00",
          "1940-01-01T00:00:00",
          "1941-01-01T00:00:00",
          "1942-01-01T00:00:00",
          "1943-01-01T00:00:00",
          "1944-01-01T00:00:00",
          "1945-01-01T00:00:00",
          "1946-01-01T00:00:00",
          "1947-01-01T00:00:00",
          "1948-01-01T00:00:00",
          "1949-01-01T00:00:00",
          "1950-01-01T00:00:00",
          "1951-01-01T00:00:00",
          "1952-01-01T00:00:00",
          "1953-01-01T00:00:00",
          "1954-01-01T00:00:00",
          "1955-01-01T00:00:00",
          "1956-01-01T00:00:00",
          "1957-01-01T00:00:00",
          "1958-01-01T00:00:00",
          "1959-01-01T00:00:00",
          "1960-01-01T00:00:00",
          "1961-01-01T00:00:00",
          "1962-01-01T00:00:00",
          "1963-01-01T00:00:00",
          "1964-01-01T00:00:00",
          "1965-01-01T00:00:00",
          "1966-01-01T00:00:00",
          "1967-01-01T00:00:00",
          "1968-01-01T00:00:00",
          "1969-01-01T00:00:00",
          "1970-01-01T00:00:00",
          "1971-01-01T00:00:00",
          "1972-01-01T00:00:00",
          "1973-01-01T00:00:00",
          "1974-01-01T00:00:00",
          "1975-01-01T00:00:00",
          "1976-01-01T00:00:00",
          "1977-01-01T00:00:00",
          "1978-01-01T00:00:00",
          "1979-01-01T00:00:00",
          "1980-01-01T00:00:00",
          "1981-01-01T00:00:00",
          "1982-01-01T00:00:00",
          "1983-01-01T00:00:00",
          "1984-01-01T00:00:00",
          "1985-01-01T00:00:00",
          "1986-01-01T00:00:00",
          "1987-01-01T00:00:00",
          "1988-01-01T00:00:00",
          "1989-01-01T00:00:00",
          "1990-01-01T00:00:00",
          "1991-01-01T00:00:00",
          "1992-01-01T00:00:00",
          "1993-01-01T00:00:00",
          "1994-01-01T00:00:00",
          "1995-01-01T00:00:00",
          "1996-01-01T00:00:00",
          "1997-01-01T00:00:00",
          "1998-01-01T00:00:00",
          "1999-01-01T00:00:00",
          "2000-01-01T00:00:00",
          "2001-01-01T00:00:00",
          "2002-01-01T00:00:00",
          "2003-01-01T00:00:00",
          "2004-01-01T00:00:00",
          "2005-01-01T00:00:00",
          "2006-01-01T00:00:00",
          "2007-01-01T00:00:00",
          "2008-01-01T00:00:00",
          "2009-01-01T00:00:00",
          "2010-01-01T00:00:00",
          "2011-01-01T00:00:00",
          "2012-01-01T00:00:00",
          "2013-01-01T00:00:00",
          "2014-01-01T00:00:00",
          "2015-01-01T00:00:00",
          "2016-01-01T00:00:00",
          "2017-01-01T00:00:00",
          "2018-01-01T00:00:00",
          "2019-01-01T00:00:00",
          "2020-01-01T00:00:00",
          "2021-01-01T00:00:00"
         ],
         "xaxis": "x",
         "y": [
          11880,
          13422.58599,
          15165.47261,
          17134.66836,
          19359.55887,
          21873.34542,
          24713.540380000002,
          27922.527009999998,
          31548.191899999998,
          35644.639599999995,
          40273,
          43485.90799,
          46955.13604,
          50701.1329,
          54745.9787,
          59113.51507,
          63829.48569,
          68921.68802,
          74420.13716,
          80357.24274,
          86768,
          91274.34335,
          96014.72609,
          101001.3032,
          106246.8609,
          111764.8495,
          117569.4178,
          123675.44959999999,
          130098.6015,
          136855.3432,
          143963,
          149352.42990000002,
          154943.6197,
          160744.12240000002,
          166761.774,
          173004.70369999998,
          179481.3451,
          186200.4474,
          193171.0875,
          200402.682,
          207905,
          213956.9595,
          220185.0869,
          226594.5106,
          233190.50770000002,
          239978.50950000001,
          246964.1048,
          254153.04570000002,
          261551.2513,
          269164.8131,
          277000,
          284000,
          292000,
          299000,
          308000,
          316000,
          327000,
          339000,
          351000,
          363000,
          377000,
          387000,
          399000,
          410000,
          422000,
          430000,
          436000,
          444000,
          437000,
          446000,
          453000,
          457000,
          467000,
          474000,
          481000,
          487000,
          494000,
          500000,
          504000,
          508000,
          509000,
          513000,
          517000,
          520000,
          522000,
          526000,
          527000,
          529000,
          535000,
          543000,
          552000,
          551000,
          575000,
          631000,
          605000,
          591000,
          638000,
          636000,
          653000,
          671000,
          696000,
          706000,
          724000,
          739000,
          750000,
          783000,
          809000,
          826000,
          845000,
          870000,
          900000,
          936000,
          958000,
          974000,
          978000,
          994000,
          1009000,
          1019000,
          1029000,
          1047000,
          1059273,
          1101192,
          1135449,
          1170040,
          1200471,
          1236030,
          1274928,
          1319512,
          1367510,
          1420238,
          1472595,
          1515471,
          1558314,
          1594943,
          1622342,
          1642910,
          1662834,
          1678119,
          1689372,
          1705864,
          1729722,
          1771941,
          1821498,
          1875993,
          1930436,
          1976774,
          2022253,
          2065397,
          2100562,
          2129836,
          2244502,
          2283715,
          2324815,
          2360137,
          2401580,
          2457719,
          2525507,
          2597746,
          2663029,
          2723421,
          2775413,
          2814797,
          2854146,
          2898773,
          2938327,
          2983626,
          3044241,
          3103540,
          3155153,
          3203383,
          3281684,
          3337975
         ],
         "yaxis": "y2"
        }
       ],
       "layout": {
        "template": {
         "data": {
          "bar": [
           {
            "error_x": {
             "color": "#2a3f5f"
            },
            "error_y": {
             "color": "#2a3f5f"
            },
            "marker": {
             "line": {
              "color": "#E5ECF6",
              "width": 0.5
             },
             "pattern": {
              "fillmode": "overlay",
              "size": 10,
              "solidity": 0.2
             }
            },
            "type": "bar"
           }
          ],
          "barpolar": [
           {
            "marker": {
             "line": {
              "color": "#E5ECF6",
              "width": 0.5
             },
             "pattern": {
              "fillmode": "overlay",
              "size": 10,
              "solidity": 0.2
             }
            },
            "type": "barpolar"
           }
          ],
          "carpet": [
           {
            "aaxis": {
             "endlinecolor": "#2a3f5f",
             "gridcolor": "white",
             "linecolor": "white",
             "minorgridcolor": "white",
             "startlinecolor": "#2a3f5f"
            },
            "baxis": {
             "endlinecolor": "#2a3f5f",
             "gridcolor": "white",
             "linecolor": "white",
             "minorgridcolor": "white",
             "startlinecolor": "#2a3f5f"
            },
            "type": "carpet"
           }
          ],
          "choropleth": [
           {
            "colorbar": {
             "outlinewidth": 0,
             "ticks": ""
            },
            "type": "choropleth"
           }
          ],
          "contour": [
           {
            "colorbar": {
             "outlinewidth": 0,
             "ticks": ""
            },
            "colorscale": [
             [
              0,
              "#0d0887"
             ],
             [
              0.1111111111111111,
              "#46039f"
             ],
             [
              0.2222222222222222,
              "#7201a8"
             ],
             [
              0.3333333333333333,
              "#9c179e"
             ],
             [
              0.4444444444444444,
              "#bd3786"
             ],
             [
              0.5555555555555556,
              "#d8576b"
             ],
             [
              0.6666666666666666,
              "#ed7953"
             ],
             [
              0.7777777777777778,
              "#fb9f3a"
             ],
             [
              0.8888888888888888,
              "#fdca26"
             ],
             [
              1,
              "#f0f921"
             ]
            ],
            "type": "contour"
           }
          ],
          "contourcarpet": [
           {
            "colorbar": {
             "outlinewidth": 0,
             "ticks": ""
            },
            "type": "contourcarpet"
           }
          ],
          "heatmap": [
           {
            "colorbar": {
             "outlinewidth": 0,
             "ticks": ""
            },
            "colorscale": [
             [
              0,
              "#0d0887"
             ],
             [
              0.1111111111111111,
              "#46039f"
             ],
             [
              0.2222222222222222,
              "#7201a8"
             ],
             [
              0.3333333333333333,
              "#9c179e"
             ],
             [
              0.4444444444444444,
              "#bd3786"
             ],
             [
              0.5555555555555556,
              "#d8576b"
             ],
             [
              0.6666666666666666,
              "#ed7953"
             ],
             [
              0.7777777777777778,
              "#fb9f3a"
             ],
             [
              0.8888888888888888,
              "#fdca26"
             ],
             [
              1,
              "#f0f921"
             ]
            ],
            "type": "heatmap"
           }
          ],
          "heatmapgl": [
           {
            "colorbar": {
             "outlinewidth": 0,
             "ticks": ""
            },
            "colorscale": [
             [
              0,
              "#0d0887"
             ],
             [
              0.1111111111111111,
              "#46039f"
             ],
             [
              0.2222222222222222,
              "#7201a8"
             ],
             [
              0.3333333333333333,
              "#9c179e"
             ],
             [
              0.4444444444444444,
              "#bd3786"
             ],
             [
              0.5555555555555556,
              "#d8576b"
             ],
             [
              0.6666666666666666,
              "#ed7953"
             ],
             [
              0.7777777777777778,
              "#fb9f3a"
             ],
             [
              0.8888888888888888,
              "#fdca26"
             ],
             [
              1,
              "#f0f921"
             ]
            ],
            "type": "heatmapgl"
           }
          ],
          "histogram": [
           {
            "marker": {
             "pattern": {
              "fillmode": "overlay",
              "size": 10,
              "solidity": 0.2
             }
            },
            "type": "histogram"
           }
          ],
          "histogram2d": [
           {
            "colorbar": {
             "outlinewidth": 0,
             "ticks": ""
            },
            "colorscale": [
             [
              0,
              "#0d0887"
             ],
             [
              0.1111111111111111,
              "#46039f"
             ],
             [
              0.2222222222222222,
              "#7201a8"
             ],
             [
              0.3333333333333333,
              "#9c179e"
             ],
             [
              0.4444444444444444,
              "#bd3786"
             ],
             [
              0.5555555555555556,
              "#d8576b"
             ],
             [
              0.6666666666666666,
              "#ed7953"
             ],
             [
              0.7777777777777778,
              "#fb9f3a"
             ],
             [
              0.8888888888888888,
              "#fdca26"
             ],
             [
              1,
              "#f0f921"
             ]
            ],
            "type": "histogram2d"
           }
          ],
          "histogram2dcontour": [
           {
            "colorbar": {
             "outlinewidth": 0,
             "ticks": ""
            },
            "colorscale": [
             [
              0,
              "#0d0887"
             ],
             [
              0.1111111111111111,
              "#46039f"
             ],
             [
              0.2222222222222222,
              "#7201a8"
             ],
             [
              0.3333333333333333,
              "#9c179e"
             ],
             [
              0.4444444444444444,
              "#bd3786"
             ],
             [
              0.5555555555555556,
              "#d8576b"
             ],
             [
              0.6666666666666666,
              "#ed7953"
             ],
             [
              0.7777777777777778,
              "#fb9f3a"
             ],
             [
              0.8888888888888888,
              "#fdca26"
             ],
             [
              1,
              "#f0f921"
             ]
            ],
            "type": "histogram2dcontour"
           }
          ],
          "mesh3d": [
           {
            "colorbar": {
             "outlinewidth": 0,
             "ticks": ""
            },
            "type": "mesh3d"
           }
          ],
          "parcoords": [
           {
            "line": {
             "colorbar": {
              "outlinewidth": 0,
              "ticks": ""
             }
            },
            "type": "parcoords"
           }
          ],
          "pie": [
           {
            "automargin": true,
            "type": "pie"
           }
          ],
          "scatter": [
           {
            "fillpattern": {
             "fillmode": "overlay",
             "size": 10,
             "solidity": 0.2
            },
            "type": "scatter"
           }
          ],
          "scatter3d": [
           {
            "line": {
             "colorbar": {
              "outlinewidth": 0,
              "ticks": ""
             }
            },
            "marker": {
             "colorbar": {
              "outlinewidth": 0,
              "ticks": ""
             }
            },
            "type": "scatter3d"
           }
          ],
          "scattercarpet": [
           {
            "marker": {
             "colorbar": {
              "outlinewidth": 0,
              "ticks": ""
             }
            },
            "type": "scattercarpet"
           }
          ],
          "scattergeo": [
           {
            "marker": {
             "colorbar": {
              "outlinewidth": 0,
              "ticks": ""
             }
            },
            "type": "scattergeo"
           }
          ],
          "scattergl": [
           {
            "marker": {
             "colorbar": {
              "outlinewidth": 0,
              "ticks": ""
             }
            },
            "type": "scattergl"
           }
          ],
          "scattermapbox": [
           {
            "marker": {
             "colorbar": {
              "outlinewidth": 0,
              "ticks": ""
             }
            },
            "type": "scattermapbox"
           }
          ],
          "scatterpolar": [
           {
            "marker": {
             "colorbar": {
              "outlinewidth": 0,
              "ticks": ""
             }
            },
            "type": "scatterpolar"
           }
          ],
          "scatterpolargl": [
           {
            "marker": {
             "colorbar": {
              "outlinewidth": 0,
              "ticks": ""
             }
            },
            "type": "scatterpolargl"
           }
          ],
          "scatterternary": [
           {
            "marker": {
             "colorbar": {
              "outlinewidth": 0,
              "ticks": ""
             }
            },
            "type": "scatterternary"
           }
          ],
          "surface": [
           {
            "colorbar": {
             "outlinewidth": 0,
             "ticks": ""
            },
            "colorscale": [
             [
              0,
              "#0d0887"
             ],
             [
              0.1111111111111111,
              "#46039f"
             ],
             [
              0.2222222222222222,
              "#7201a8"
             ],
             [
              0.3333333333333333,
              "#9c179e"
             ],
             [
              0.4444444444444444,
              "#bd3786"
             ],
             [
              0.5555555555555556,
              "#d8576b"
             ],
             [
              0.6666666666666666,
              "#ed7953"
             ],
             [
              0.7777777777777778,
              "#fb9f3a"
             ],
             [
              0.8888888888888888,
              "#fdca26"
             ],
             [
              1,
              "#f0f921"
             ]
            ],
            "type": "surface"
           }
          ],
          "table": [
           {
            "cells": {
             "fill": {
              "color": "#EBF0F8"
             },
             "line": {
              "color": "white"
             }
            },
            "header": {
             "fill": {
              "color": "#C8D4E3"
             },
             "line": {
              "color": "white"
             }
            },
            "type": "table"
           }
          ]
         },
         "layout": {
          "annotationdefaults": {
           "arrowcolor": "#2a3f5f",
           "arrowhead": 0,
           "arrowwidth": 1
          },
          "autotypenumbers": "strict",
          "coloraxis": {
           "colorbar": {
            "outlinewidth": 0,
            "ticks": ""
           }
          },
          "colorscale": {
           "diverging": [
            [
             0,
             "#8e0152"
            ],
            [
             0.1,
             "#c51b7d"
            ],
            [
             0.2,
             "#de77ae"
            ],
            [
             0.3,
             "#f1b6da"
            ],
            [
             0.4,
             "#fde0ef"
            ],
            [
             0.5,
             "#f7f7f7"
            ],
            [
             0.6,
             "#e6f5d0"
            ],
            [
             0.7,
             "#b8e186"
            ],
            [
             0.8,
             "#7fbc41"
            ],
            [
             0.9,
             "#4d9221"
            ],
            [
             1,
             "#276419"
            ]
           ],
           "sequential": [
            [
             0,
             "#0d0887"
            ],
            [
             0.1111111111111111,
             "#46039f"
            ],
            [
             0.2222222222222222,
             "#7201a8"
            ],
            [
             0.3333333333333333,
             "#9c179e"
            ],
            [
             0.4444444444444444,
             "#bd3786"
            ],
            [
             0.5555555555555556,
             "#d8576b"
            ],
            [
             0.6666666666666666,
             "#ed7953"
            ],
            [
             0.7777777777777778,
             "#fb9f3a"
            ],
            [
             0.8888888888888888,
             "#fdca26"
            ],
            [
             1,
             "#f0f921"
            ]
           ],
           "sequentialminus": [
            [
             0,
             "#0d0887"
            ],
            [
             0.1111111111111111,
             "#46039f"
            ],
            [
             0.2222222222222222,
             "#7201a8"
            ],
            [
             0.3333333333333333,
             "#9c179e"
            ],
            [
             0.4444444444444444,
             "#bd3786"
            ],
            [
             0.5555555555555556,
             "#d8576b"
            ],
            [
             0.6666666666666666,
             "#ed7953"
            ],
            [
             0.7777777777777778,
             "#fb9f3a"
            ],
            [
             0.8888888888888888,
             "#fdca26"
            ],
            [
             1,
             "#f0f921"
            ]
           ]
          },
          "colorway": [
           "#636efa",
           "#EF553B",
           "#00cc96",
           "#ab63fa",
           "#FFA15A",
           "#19d3f3",
           "#FF6692",
           "#B6E880",
           "#FF97FF",
           "#FECB52"
          ],
          "font": {
           "color": "#2a3f5f"
          },
          "geo": {
           "bgcolor": "white",
           "lakecolor": "white",
           "landcolor": "#E5ECF6",
           "showlakes": true,
           "showland": true,
           "subunitcolor": "white"
          },
          "hoverlabel": {
           "align": "left"
          },
          "hovermode": "closest",
          "mapbox": {
           "style": "light"
          },
          "paper_bgcolor": "white",
          "plot_bgcolor": "#E5ECF6",
          "polar": {
           "angularaxis": {
            "gridcolor": "white",
            "linecolor": "white",
            "ticks": ""
           },
           "bgcolor": "#E5ECF6",
           "radialaxis": {
            "gridcolor": "white",
            "linecolor": "white",
            "ticks": ""
           }
          },
          "scene": {
           "xaxis": {
            "backgroundcolor": "#E5ECF6",
            "gridcolor": "white",
            "gridwidth": 2,
            "linecolor": "white",
            "showbackground": true,
            "ticks": "",
            "zerolinecolor": "white"
           },
           "yaxis": {
            "backgroundcolor": "#E5ECF6",
            "gridcolor": "white",
            "gridwidth": 2,
            "linecolor": "white",
            "showbackground": true,
            "ticks": "",
            "zerolinecolor": "white"
           },
           "zaxis": {
            "backgroundcolor": "#E5ECF6",
            "gridcolor": "white",
            "gridwidth": 2,
            "linecolor": "white",
            "showbackground": true,
            "ticks": "",
            "zerolinecolor": "white"
           }
          },
          "shapedefaults": {
           "line": {
            "color": "#2a3f5f"
           }
          },
          "ternary": {
           "aaxis": {
            "gridcolor": "white",
            "linecolor": "white",
            "ticks": ""
           },
           "baxis": {
            "gridcolor": "white",
            "linecolor": "white",
            "ticks": ""
           },
           "bgcolor": "#E5ECF6",
           "caxis": {
            "gridcolor": "white",
            "linecolor": "white",
            "ticks": ""
           }
          },
          "title": {
           "x": 0.05
          },
          "xaxis": {
           "automargin": true,
           "gridcolor": "white",
           "linecolor": "white",
           "ticks": "",
           "title": {
            "standoff": 15
           },
           "zerolinecolor": "white",
           "zerolinewidth": 2
          },
          "yaxis": {
           "automargin": true,
           "gridcolor": "white",
           "linecolor": "white",
           "ticks": "",
           "title": {
            "standoff": 15
           },
           "zerolinecolor": "white",
           "zerolinewidth": 2
          }
         }
        },
        "xaxis": {
         "anchor": "y",
         "domain": [
          0,
          0.94
         ],
         "range": [
          "1960-01-01",
          "2020-01-01"
         ],
         "type": "date"
        },
        "yaxis": {
         "anchor": "x",
         "domain": [
          0,
          1
         ]
        },
        "yaxis2": {
         "anchor": "x",
         "overlaying": "y",
         "side": "right"
        }
       }
      }
     },
     "metadata": {},
     "output_type": "display_data"
    }
   ],
   "source": [
    "from plotly.subplots import make_subplots\n",
    "import plotly.graph_objects as go\n",
    "\n",
    "\n",
    "fig = make_subplots(specs=[[{'secondary_y':True}]])\n",
    "\n",
    "fig.add_trace(\n",
    "    go.Scatter(x=yearly_df['datetime'],y=yearly_df['Agriculture'], name='Agriculture'),\n",
    "    secondary_y = False,\n",
    ")\n",
    "\n",
    "fig.add_trace(\n",
    "    go.Scatter(x=yearly_df['datetime'],y=yearly_df['Population'], name='Population'),\n",
    "    secondary_y = True,\n",
    ")\n",
    "\n",
    "start_date = \"1960-01-01\"\n",
    "end_date = \"2020-01-01\"\n",
    "fig.update_xaxes(type='date', range=[start_date, end_date])\n",
    "\n",
    "fig.update_layout(\n",
    "    hover\n",
    ")\n",
    "\n",
    "fig.show()"
   ]
  },
  {
   "cell_type": "code",
   "execution_count": null,
   "metadata": {},
   "outputs": [],
   "source": []
  }
 ],
 "metadata": {
  "kernelspec": {
   "display_name": "Python 3.9.13 ('base')",
   "language": "python",
   "name": "python3"
  },
  "language_info": {
   "codemirror_mode": {
    "name": "ipython",
    "version": 3
   },
   "file_extension": ".py",
   "mimetype": "text/x-python",
   "name": "python",
   "nbconvert_exporter": "python",
   "pygments_lexer": "ipython3",
   "version": "3.9.13"
  },
  "orig_nbformat": 4,
  "vscode": {
   "interpreter": {
    "hash": "4b55733d1840a0be1758c73097f27f9b2fa130991d8714818b6a7a4fc9ef5f47"
   }
  }
 },
 "nbformat": 4,
 "nbformat_minor": 2
}
